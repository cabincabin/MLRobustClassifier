{
 "cells": [
  {
   "cell_type": "markdown",
   "metadata": {
    "colab_type": "text",
    "id": "S5EgSNLvXywU"
   },
   "source": [
    "# Google Cloud Platform - Using Machine Learning APIs  ).\n",
    "\n",
    "This is an upgraded Python revision of [this notebook](https://github.com/GoogleCloudPlatform/training-data-analyst/blob/master/CPB100/lab4c/mlapis.ipynb).\n",
    "\n",
    "This notebook originally was being processed using DataLab on the Google Cloud Platform.  This particular incarnation of the notebook is for running on Google Colaboratory which I am trying out for the first time.\n",
    "\n",
    "### Security\n",
    "\n",
    "First things first - we need to authenticate against the Google Cloud APIs.\n",
    "\n",
    "#### Getting a Google API Credential.\n",
    "\n",
    "First, visit <a href=\"http://console.cloud.google.com/apis\">API console</a>, choose \"Credentials\" on the left-hand menu.  Choose \"Create Credentials\" and generate an API key for your application. You should probably restrict it by IP address to prevent abuse, but for now, just  leave that field blank and delete the API key after trying out this demo.\n",
    "\n",
    "Then, when you have your key, you will enter it in this first executable cell:"
   ]
  },
  {
   "cell_type": "code",
   "execution_count": 156,
   "metadata": {
    "colab": {},
    "colab_type": "code",
    "id": "ZnvgmLnVWWor"
   },
   "outputs": [],
   "source": [
    "import sys\n",
    "import json\n",
    "import pandas as pd\n",
    "import skimage.io\n",
    "import os\n",
    "import numpy as np\n"
   ]
  },
  {
   "cell_type": "code",
   "execution_count": 179,
   "metadata": {
    "colab": {},
    "colab_type": "code",
    "id": "zhvXTvskJ63Q"
   },
   "outputs": [],
   "source": [
    "def create_service():\n",
    "    return\n",
    "\n",
    "\n",
    "def list_bucket(bucket):\n",
    "    listdir = os.listdir(bucket)\n",
    "    for i in range(0, len(listdir)):\n",
    "        listdir[i]=\"images/\"+listdir[i]\n",
    "        \n",
    "    files=pd.DataFrame()\n",
    "    files['image_path']=listdir\n",
    "    return files\n",
    "\n",
    "def strip_filepath(infiles):\n",
    "    infiles=infiles.image_path.str.split('/').str[-1]\n",
    "    files=pd.DataFrame()\n",
    "    files['ImageID']=infiles\n",
    "    files=files.ImageID.str.split('.').str[0]\n",
    "    return(files)\n",
    "\n",
    "def build_master_df():\n",
    "    BUCKET='C:\\\\WPI\\\\MachineLearning\\\\FinalProject_Local\\\\images'\n",
    "    BBOX='C:\\\\WPI\\\\MachineLearning\\\\FinalProject_Local\\\\bbox_test.csv'\n",
    "    \n",
    "    #THESE FUNCTIONS ARE USED TO ESTABLISH CONNECTION WITH GCP AND EXTRACT ARRAY OF ALL IMAGES\n",
    "    create_service()\n",
    "    files=list_bucket(BUCKET)\n",
    "    \n",
    "    #STRIP THE PATH INFO PROVIDED TO DETERMINE OPENIMAGES IMAGEID\n",
    "    imageid=strip_filepath(files)\n",
    "    files['ImageID']=imageid\n",
    "    \n",
    "    #READ IN BOUNDING BOX\n",
    "    bbox=pd.read_csv(BBOX)\n",
    "    \n",
    "    #MERGE LIST OF ALL FILES WITH BOUNDING BOX INFORMATION\n",
    "    df_all = pd.merge(files, bbox, on='ImageID', how='inner')\n",
    "    return(df_all)\n",
    "    \n",
    "def process_image(filename):\n",
    "    image_raw=np.array(skimage.io.imread(filename))\n",
    "    img_size=image_raw.size \n",
    "    images_flat=image_raw.ravel()\n",
    "    images_color = images_flat.reshape(-1, img_size)\n",
    "    return(images_color)\n",
    "\n"
   ]
  },
  {
   "cell_type": "code",
   "execution_count": 195,
   "metadata": {},
   "outputs": [
    {
     "name": "stdout",
     "output_type": "stream",
     "text": [
      "image_filename\n",
      "images/BMHF3758.JPG\n",
      "[[[158 168  97]\n",
      "  [152 162  93]\n",
      "  [159 166  99]\n",
      "  ...\n",
      "  [ 77 111 185]\n",
      "  [ 77 111 185]\n",
      "  [ 78 112 184]]\n",
      "\n",
      " [[157 167  98]\n",
      "  [152 162  93]\n",
      "  [157 163  99]\n",
      "  ...\n",
      "  [ 77 111 185]\n",
      "  [ 77 111 183]\n",
      "  [ 77 111 183]]\n",
      "\n",
      " [[154 164  95]\n",
      "  [148 157  90]\n",
      "  [151 157  93]\n",
      "  ...\n",
      "  [ 77 111 185]\n",
      "  [ 77 111 183]\n",
      "  [ 77 111 183]]\n",
      "\n",
      " ...\n",
      "\n",
      " [[149 125  91]\n",
      "  [148 125  91]\n",
      "  [148 126  89]\n",
      "  ...\n",
      "  [247 219 182]\n",
      "  [247 219 182]\n",
      "  [246 218 181]]\n",
      "\n",
      " [[149 125  91]\n",
      "  [149 126  92]\n",
      "  [149 126  92]\n",
      "  ...\n",
      "  [247 219 180]\n",
      "  [247 219 180]\n",
      "  [247 219 180]]\n",
      "\n",
      " [[149 125  91]\n",
      "  [149 126  92]\n",
      "  [150 127  93]\n",
      "  ...\n",
      "  [248 220 181]\n",
      "  [248 220 181]\n",
      "  [247 219 180]]]\n",
      "[[158 168  97 ... 247 219 180]]\n"
     ]
    },
    {
     "ename": "ValueError",
     "evalue": "Must have equal len keys and value when setting with an ndarray",
     "output_type": "error",
     "traceback": [
      "\u001b[1;31m---------------------------------------------------------------------------\u001b[0m",
      "\u001b[1;31mValueError\u001b[0m                                Traceback (most recent call last)",
      "\u001b[1;32m<ipython-input-195-125c5d17c5e5>\u001b[0m in \u001b[0;36m<module>\u001b[1;34m()\u001b[0m\n\u001b[0;32m     27\u001b[0m \u001b[1;33m\u001b[0m\u001b[0m\n\u001b[0;32m     28\u001b[0m \u001b[1;33m\u001b[0m\u001b[0m\n\u001b[1;32m---> 29\u001b[1;33m \u001b[0mmain\u001b[0m\u001b[1;33m(\u001b[0m\u001b[1;33m)\u001b[0m\u001b[1;33m\u001b[0m\u001b[0m\n\u001b[0m",
      "\u001b[1;32m<ipython-input-195-125c5d17c5e5>\u001b[0m in \u001b[0;36mmain\u001b[1;34m()\u001b[0m\n\u001b[0;32m     13\u001b[0m             \u001b[1;32mprint\u001b[0m\u001b[1;33m(\u001b[0m\u001b[0mcase\u001b[0m\u001b[1;33m.\u001b[0m\u001b[0mimage_path\u001b[0m\u001b[1;33m)\u001b[0m\u001b[1;33m\u001b[0m\u001b[0m\n\u001b[0;32m     14\u001b[0m             \u001b[0mimage_vec\u001b[0m\u001b[1;33m=\u001b[0m\u001b[0mprocess_image\u001b[0m\u001b[1;33m(\u001b[0m\u001b[0mcase\u001b[0m\u001b[1;33m.\u001b[0m\u001b[0mimage_path\u001b[0m\u001b[1;33m)\u001b[0m\u001b[1;33m\u001b[0m\u001b[0m\n\u001b[1;32m---> 15\u001b[1;33m             \u001b[0mdf_all\u001b[0m\u001b[1;33m.\u001b[0m\u001b[0mloc\u001b[0m\u001b[1;33m[\u001b[0m\u001b[0mimage_cnt\u001b[0m\u001b[1;33m,\u001b[0m\u001b[1;34m'image_vec'\u001b[0m\u001b[1;33m]\u001b[0m \u001b[1;33m=\u001b[0m \u001b[0mimage_vec\u001b[0m\u001b[1;33m\u001b[0m\u001b[0m\n\u001b[0m\u001b[0;32m     16\u001b[0m             \u001b[1;31m#df[i]=image_vec.toarray().tolist()\u001b[0m\u001b[1;33m\u001b[0m\u001b[1;33m\u001b[0m\u001b[0m\n\u001b[0;32m     17\u001b[0m             \u001b[0mbatch_cnt\u001b[0m\u001b[1;33m+=\u001b[0m\u001b[1;36m1\u001b[0m\u001b[1;33m\u001b[0m\u001b[0m\n",
      "\u001b[1;32mC:\\Users\\clair\\AppData\\Local\\conda\\conda\\envs\\py27\\lib\\site-packages\\pandas\\core\\indexing.pyc\u001b[0m in \u001b[0;36m__setitem__\u001b[1;34m(self, key, value)\u001b[0m\n\u001b[0;32m    187\u001b[0m             \u001b[0mkey\u001b[0m \u001b[1;33m=\u001b[0m \u001b[0mcom\u001b[0m\u001b[1;33m.\u001b[0m\u001b[0m_apply_if_callable\u001b[0m\u001b[1;33m(\u001b[0m\u001b[0mkey\u001b[0m\u001b[1;33m,\u001b[0m \u001b[0mself\u001b[0m\u001b[1;33m.\u001b[0m\u001b[0mobj\u001b[0m\u001b[1;33m)\u001b[0m\u001b[1;33m\u001b[0m\u001b[0m\n\u001b[0;32m    188\u001b[0m         \u001b[0mindexer\u001b[0m \u001b[1;33m=\u001b[0m \u001b[0mself\u001b[0m\u001b[1;33m.\u001b[0m\u001b[0m_get_setitem_indexer\u001b[0m\u001b[1;33m(\u001b[0m\u001b[0mkey\u001b[0m\u001b[1;33m)\u001b[0m\u001b[1;33m\u001b[0m\u001b[0m\n\u001b[1;32m--> 189\u001b[1;33m         \u001b[0mself\u001b[0m\u001b[1;33m.\u001b[0m\u001b[0m_setitem_with_indexer\u001b[0m\u001b[1;33m(\u001b[0m\u001b[0mindexer\u001b[0m\u001b[1;33m,\u001b[0m \u001b[0mvalue\u001b[0m\u001b[1;33m)\u001b[0m\u001b[1;33m\u001b[0m\u001b[0m\n\u001b[0m\u001b[0;32m    190\u001b[0m \u001b[1;33m\u001b[0m\u001b[0m\n\u001b[0;32m    191\u001b[0m     \u001b[1;32mdef\u001b[0m \u001b[0m_validate_key\u001b[0m\u001b[1;33m(\u001b[0m\u001b[0mself\u001b[0m\u001b[1;33m,\u001b[0m \u001b[0mkey\u001b[0m\u001b[1;33m,\u001b[0m \u001b[0maxis\u001b[0m\u001b[1;33m)\u001b[0m\u001b[1;33m:\u001b[0m\u001b[1;33m\u001b[0m\u001b[0m\n",
      "\u001b[1;32mC:\\Users\\clair\\AppData\\Local\\conda\\conda\\envs\\py27\\lib\\site-packages\\pandas\\core\\indexing.pyc\u001b[0m in \u001b[0;36m_setitem_with_indexer\u001b[1;34m(self, indexer, value)\u001b[0m\n\u001b[0;32m    364\u001b[0m                         new_indexer = convert_from_missing_indexer_tuple(\n\u001b[0;32m    365\u001b[0m                             indexer, self.obj.axes)\n\u001b[1;32m--> 366\u001b[1;33m                         \u001b[0mself\u001b[0m\u001b[1;33m.\u001b[0m\u001b[0m_setitem_with_indexer\u001b[0m\u001b[1;33m(\u001b[0m\u001b[0mnew_indexer\u001b[0m\u001b[1;33m,\u001b[0m \u001b[0mvalue\u001b[0m\u001b[1;33m)\u001b[0m\u001b[1;33m\u001b[0m\u001b[0m\n\u001b[0m\u001b[0;32m    367\u001b[0m \u001b[1;33m\u001b[0m\u001b[0m\n\u001b[0;32m    368\u001b[0m                         \u001b[1;32mreturn\u001b[0m \u001b[0mself\u001b[0m\u001b[1;33m.\u001b[0m\u001b[0mobj\u001b[0m\u001b[1;33m\u001b[0m\u001b[0m\n",
      "\u001b[1;32mC:\\Users\\clair\\AppData\\Local\\conda\\conda\\envs\\py27\\lib\\site-packages\\pandas\\core\\indexing.pyc\u001b[0m in \u001b[0;36m_setitem_with_indexer\u001b[1;34m(self, indexer, value)\u001b[0m\n\u001b[0;32m    588\u001b[0m                     \u001b[0mvalue\u001b[0m \u001b[1;33m=\u001b[0m \u001b[0mnp\u001b[0m\u001b[1;33m.\u001b[0m\u001b[0marray\u001b[0m\u001b[1;33m(\u001b[0m\u001b[0mvalue\u001b[0m\u001b[1;33m,\u001b[0m \u001b[0mdtype\u001b[0m\u001b[1;33m=\u001b[0m\u001b[0mobject\u001b[0m\u001b[1;33m)\u001b[0m\u001b[1;33m\u001b[0m\u001b[0m\n\u001b[0;32m    589\u001b[0m                     \u001b[1;32mif\u001b[0m \u001b[0mlen\u001b[0m\u001b[1;33m(\u001b[0m\u001b[0mlabels\u001b[0m\u001b[1;33m)\u001b[0m \u001b[1;33m!=\u001b[0m \u001b[0mvalue\u001b[0m\u001b[1;33m.\u001b[0m\u001b[0mshape\u001b[0m\u001b[1;33m[\u001b[0m\u001b[1;36m1\u001b[0m\u001b[1;33m]\u001b[0m\u001b[1;33m:\u001b[0m\u001b[1;33m\u001b[0m\u001b[0m\n\u001b[1;32m--> 590\u001b[1;33m                         raise ValueError('Must have equal len keys and value '\n\u001b[0m\u001b[0;32m    591\u001b[0m                                          'when setting with an ndarray')\n\u001b[0;32m    592\u001b[0m \u001b[1;33m\u001b[0m\u001b[0m\n",
      "\u001b[1;31mValueError\u001b[0m: Must have equal len keys and value when setting with an ndarray"
     ]
    }
   ],
   "source": [
    "def main():\n",
    "    df_all=build_master_df()\n",
    "    \n",
    "    '''\n",
    "    n_images=len(df_all.index)\n",
    "    image_cnt=0\n",
    "    batch_size=5\n",
    "\n",
    "    #while image_cnt<n_images:\n",
    "    while image_cnt<5:\n",
    "        batch_cnt=0\n",
    "        while batch_cnt<batch_size:\n",
    "            case=df_all.iloc[image_cnt]\n",
    "            print('image_filename')\n",
    "            print(case.image_path)\n",
    "            image_vec=process_image(case.image_path)\n",
    "            df_all.loc[image_cnt,'image_vec'] = image_vec\n",
    "            #df[i]=image_vec.toarray().tolist()\n",
    "            batch_cnt+=1\n",
    "            image_cnt+=1\n",
    "        #image_vec=process_image()\n",
    "        image_cnt+=1\n",
    "    '''\n",
    "main()"
   ]
  }
 ],
 "metadata": {
  "colab": {
   "collapsed_sections": [],
   "name": "GCP_mlapis.ipynb",
   "provenance": [],
   "version": "0.3.2"
  },
  "kernelspec": {
   "display_name": "Python 2",
   "language": "python",
   "name": "python2"
  },
  "language_info": {
   "codemirror_mode": {
    "name": "ipython",
    "version": 2
   },
   "file_extension": ".py",
   "mimetype": "text/x-python",
   "name": "python",
   "nbconvert_exporter": "python",
   "pygments_lexer": "ipython2",
   "version": "2.7.15"
  }
 },
 "nbformat": 4,
 "nbformat_minor": 1
}
