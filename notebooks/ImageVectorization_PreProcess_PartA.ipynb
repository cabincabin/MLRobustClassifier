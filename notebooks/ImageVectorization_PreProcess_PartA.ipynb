{
  "nbformat": 4,
  "nbformat_minor": 0,
  "metadata": {
    "colab": {
      "name": "GCP_mlapis.ipynb",
      "version": "0.3.2",
      "provenance": [],
      "collapsed_sections": []
    },
    "kernelspec": {
      "display_name": "Python 3",
      "language": "python",
      "name": "python3"
    }
  },
  "cells": [
    {
      "metadata": {
        "colab_type": "text",
        "id": "S5EgSNLvXywU"
      },
      "cell_type": "markdown",
      "source": [
        "# Google Cloud Platform - Using Machine Learning APIs  ).\n",
        "\n",
        "This is an upgraded Python revision of [this notebook](https://github.com/GoogleCloudPlatform/training-data-analyst/blob/master/CPB100/lab4c/mlapis.ipynb).\n",
        "\n",
        "This notebook originally was being processed using DataLab on the Google Cloud Platform.  This particular incarnation of the notebook is for running on Google Colaboratory which I am trying out for the first time.\n",
        "\n",
        "### Security\n",
        "\n",
        "First things first - we need to authenticate against the Google Cloud APIs.\n",
        "\n",
        "#### Getting a Google API Credential.\n",
        "\n",
        "First, visit <a href=\"http://console.cloud.google.com/apis\">API console</a>, choose \"Credentials\" on the left-hand menu.  Choose \"Create Credentials\" and generate an API key for your application. You should probably restrict it by IP address to prevent abuse, but for now, just  leave that field blank and delete the API key after trying out this demo.\n",
        "\n",
        "Then, when you have your key, you will enter it in this first executable cell:"
      ]
    },
    {
      "metadata": {
        "id": "laePw6L_Rt8c",
        "colab_type": "code",
        "colab": {}
      },
      "cell_type": "code",
      "source": [
        "!pip install -q cloudstorage\n",
        "!pip install -q webapp2\n",
        "!pip install --upgrade numpy\n",
        "!pip install six==1.10.0\n",
        "!pip install -q datalab\n",
        "! pip install --upgrade gcs-client\n"
      ],
      "execution_count": 0,
      "outputs": []
    },
    {
      "metadata": {
        "id": "Pz9dCCuaZgD7",
        "colab_type": "code",
        "colab": {
          "base_uri": "https://localhost:8080/",
          "height": 34
        },
        "outputId": "1e6484ea-97d1-439b-951d-e527e39a713e"
      },
      "cell_type": "code",
      "source": [
        "import getpass\n",
        "\n",
        "APIKEY = getpass.getpass()"
      ],
      "execution_count": 93,
      "outputs": [
        {
          "output_type": "stream",
          "text": [
            "··········\n"
          ],
          "name": "stdout"
        }
      ]
    },
    {
      "metadata": {
        "id": "ZnvgmLnVWWor",
        "colab_type": "code",
        "colab": {}
      },
      "cell_type": "code",
      "source": [
        "import sys\n",
        "import json\n",
        "import argparse\n",
        "import googleapiclient.discovery\n",
        "import pandas as pd\n",
        "import skimage.data\n",
        "from skimage import img_as_float"
      ],
      "execution_count": 0,
      "outputs": []
    },
    {
      "metadata": {
        "id": "jjQ4qVAe7h_3",
        "colab_type": "code",
        "colab": {}
      },
      "cell_type": "code",
      "source": [
        "# Authenticate to GCS.\n",
        "from google.colab import auth\n",
        "auth.authenticate_user()\n",
        "\n",
        "# Create the service client.\n",
        "from googleapiclient.discovery import build\n",
        "gcs_service = build('storage', 'v1')\n",
        "\n",
        "\n",
        "BUCKET = 'wpiopenimageskaggle' \n",
        "\n",
        "\n"
      ],
      "execution_count": 0,
      "outputs": []
    },
    {
      "metadata": {
        "id": "zhvXTvskJ63Q",
        "colab_type": "code",
        "colab": {}
      },
      "cell_type": "code",
      "source": [
        "def create_service():\n",
        "    return googleapiclient.discovery.build('storage', 'v1')\n",
        "\n",
        "\n",
        "def list_bucket(bucket):\n",
        "    \"\"\"Returns a list of metadata of the objects within the given bucket.\"\"\"\n",
        "    service = create_service()\n",
        "\n",
        "    # Create a request to objects.list to retrieve a list of objects.\n",
        "    fields_to_return = 'nextPageToken,items(name,size,contentType,metadata(my-key))'\n",
        "    #req = service.objects().list(bucket=bucket, fields=fields_to_return)  # returns everything\n",
        "    req = service.objects().list(bucket=bucket, fields=fields_to_return, prefix='Boat')  # returns everything. UrbanSound is top dir in bucket\n",
        "    #req = service.objects().list(bucket=bucket, fields=fields_to_return, prefix='UrbanSound/FREE') # returns the file FREESOUNDCREDITS.TXT\n",
        "    #req = service.objects().list(bucket=bucket, fields=fields_to_return, prefix='UrbanSound/FREESOUNDCREDITS.txt', delimiter='/') # same as above\n",
        "    #req = service.objects().list(bucket=bucket, fields=fields_to_return, prefix='UrbanSound/data/dog_bark', delimiter='/') # returns nothing\n",
        "    #req = service.objects().list(bucket=bucket, fields=fields_to_return, prefix='UrbanSound/data/dog_bark/', delimiter='/') # returns files in dog_bark dir\n",
        "\n",
        "    all_objects = []\n",
        "    # If you have too many items to list in one request, list_next() will\n",
        "    # automatically handle paging with the pageToken.\n",
        "    while req:\n",
        "        resp = req.execute()\n",
        "        all_objects.extend(resp.get('items', []))\n",
        "        req = service.objects().list_next(req, resp)\n",
        "    return all_objects\n",
        "\n",
        "# usage\n",
        "raw_json=json.dumps(list_bucket(BUCKET), indent=2)"
      ],
      "execution_count": 0,
      "outputs": []
    },
    {
      "metadata": {
        "id": "xcgxaUUzkJIX",
        "colab_type": "code",
        "colab": {}
      },
      "cell_type": "code",
      "source": [
        ""
      ],
      "execution_count": 0,
      "outputs": []
    },
    {
      "metadata": {
        "id": "DWbzeSCWMFGy",
        "colab_type": "code",
        "colab": {
          "base_uri": "https://localhost:8080/",
          "height": 51
        },
        "outputId": "513c8912-20a5-40aa-8a5c-8820db978968"
      },
      "cell_type": "code",
      "source": [
        "test=pd.read_json(raw_json)\n",
        "print(test[1:2])"
      ],
      "execution_count": 138,
      "outputs": [
        {
          "output_type": "stream",
          "text": [
            "  contentType                       name    size\n",
            "1  image/jpeg  Boat/002200be72145198.jpg  421363\n"
          ],
          "name": "stdout"
        }
      ]
    },
    {
      "metadata": {
        "id": "JjRZTq3ZM0yK",
        "colab_type": "code",
        "colab": {}
      },
      "cell_type": "code",
      "source": [
        "files=test['name']\n",
        "test_file=test['name'].apply(str)[1]"
      ],
      "execution_count": 0,
      "outputs": []
    },
    {
      "metadata": {
        "id": "0hD_bWF1ptUG",
        "colab_type": "code",
        "colab": {
          "base_uri": "https://localhost:8080/",
          "height": 129
        },
        "outputId": "e54df238-5e8b-4a63-f92e-3a80d2fb9194"
      },
      "cell_type": "code",
      "source": [
        "def url_to_image(url):\n",
        "\t# download the image, convert it to a NumPy array, and then read\n",
        "\t# it into OpenCV format\n",
        "\tresp = urllib.urlopen(url)\n",
        "\timage = np.asarray(bytearray(resp.read()), dtype=\"uint8\")\n",
        "\timage = cv2.imdecode(image, cv2.IMREAD_COLOR)\n",
        " \n",
        "\t# return the image\n",
        "\treturn image"
      ],
      "execution_count": 163,
      "outputs": [
        {
          "output_type": "error",
          "ename": "IndentationError",
          "evalue": "ignored",
          "traceback": [
            "\u001b[0;36m  File \u001b[0;32m\"<ipython-input-163-035893b4ced9>\"\u001b[0;36m, line \u001b[0;32m7\u001b[0m\n\u001b[0;31m    s = url.read()\u001b[0m\n\u001b[0m                  ^\u001b[0m\n\u001b[0;31mIndentationError\u001b[0m\u001b[0;31m:\u001b[0m unindent does not match any outer indentation level\n"
          ]
        }
      ]
    },
    {
      "metadata": {
        "id": "vLeZZqorqTlP",
        "colab_type": "code",
        "colab": {}
      },
      "cell_type": "code",
      "source": [
        "def url_to_image(url):\n",
        "\t# download the image, convert it to a NumPy array, and then read\n",
        "\t# it into OpenCV format\n",
        "  with urllib.request.urlopen(url) as file:\n",
        "      resp=file.read()\n",
        "      image = np.asarray(bytearray(resp.read()), dtype=\"uint8\")\n",
        "      image = cv2.imdecode(image, cv2.IMREAD_COLOR)\n",
        "  return image"
      ],
      "execution_count": 0,
      "outputs": []
    },
    {
      "metadata": {
        "id": "B7UCdD5_reSs",
        "colab_type": "code",
        "colab": {}
      },
      "cell_type": "code",
      "source": [
        "with urllib.request.urlopen(\"http://www.python.org\") as url:\n",
        "    s = url.read()\n",
        "#I'm guessing this would"
      ],
      "execution_count": 0,
      "outputs": []
    },
    {
      "metadata": {
        "id": "cyaTEWXGpBHP",
        "colab_type": "code",
        "colab": {
          "base_uri": "https://localhost:8080/",
          "height": 68
        },
        "outputId": "6cc62886-2d1b-43a4-9973-bffa66e3b527"
      },
      "cell_type": "code",
      "source": [
        "bucket = BUCKET\n",
        "file = test_file\n",
        "gcs_url = 'https://%(bucket)s.storage.googleapis.com/%(file)s' % {'bucket':bucket, 'file':file}\n",
        "\n",
        "print(gcs_url)"
      ],
      "execution_count": 189,
      "outputs": [
        {
          "output_type": "stream",
          "text": [
            "https://wpiopenimageskaggle.storage.googleapis.com/Boat/002200be72145198.jpg\n",
            "adc.json  sample_data  test_f\n"
          ],
          "name": "stdout"
        },
        {
          "output_type": "execute_result",
          "data": {
            "text/plain": [
              "'/content'"
            ]
          },
          "metadata": {
            "tags": []
          },
          "execution_count": 189
        }
      ]
    },
    {
      "metadata": {
        "id": "Y5zE2wrRzHXk",
        "colab_type": "text"
      },
      "cell_type": "markdown",
      "source": [
        ""
      ]
    },
    {
      "metadata": {
        "id": "cf-k31pfgTUB",
        "colab_type": "code",
        "colab": {
          "base_uri": "https://localhost:8080/",
          "height": 34
        },
        "outputId": "5d1f33d8-5536-4b94-afae-a03e6be9f053"
      },
      "cell_type": "code",
      "source": [
        "# Imports\n",
        "from google.datalab import Context\n",
        "from IPython.display import Image\n",
        "\n",
        "# Define the bucket and and an example image to read\n",
        "bucket_path = \"gs://BUCKET_NAME\"\n",
        "bucket_object = bucket_path + \"/google.png\"\n",
        "\n",
        "# List all the objects in your bucket, and read the example image file\n",
        "%gcs list --objects $bucket_path\n",
        "%gcs read --object $bucket_object -v img\n",
        "\n",
        "# Print the image content (see it is in PNG format) and show it\n",
        "print(type(img))\n",
        "img\n",
        "Image(img)"
      ],
      "execution_count": 140,
      "outputs": [
        {
          "output_type": "stream",
          "text": [
            "UsageError: Line magic function `%gcs` not found.\n"
          ],
          "name": "stderr"
        }
      ]
    },
    {
      "metadata": {
        "id": "BADyIXXPbqsc",
        "colab_type": "code",
        "colab": {
          "base_uri": "https://localhost:8080/",
          "height": 34
        },
        "outputId": "9463ad1d-18a9-41b6-b243-664a08b21e6e"
      },
      "cell_type": "code",
      "source": [
        "# Imports\n",
        "from google.datalab import Context\n",
        "from IPython.display import Image\n",
        "\n",
        "# Define the bucket and and an example image to read\n",
        "bucket_path = \"gs://\"+'wpiopenimageskaggle/'\n",
        "bucket_object = bucket_path + test_file\n",
        "\n",
        "# List all the objects in your bucket, and read the example image file\n",
        "%gcs list --objects $bucket_path\n",
        "%gcs read --object $bucket_object -v img\n",
        "\n",
        "# Print the image content (see it is in PNG format) and show it\n",
        "print(type(img))\n",
        "img\n",
        "Image(img)"
      ],
      "execution_count": 156,
      "outputs": [
        {
          "output_type": "stream",
          "text": [
            "UsageError: Line magic function `%gcs` not found.\n"
          ],
          "name": "stderr"
        }
      ]
    },
    {
      "metadata": {
        "id": "-rU6JfuDe7xx",
        "colab_type": "code",
        "colab": {
          "base_uri": "https://localhost:8080/",
          "height": 34
        },
        "outputId": "14f8aada-cb67-4be9-8896-6aedf82e8293"
      },
      "cell_type": "code",
      "source": [
        "Image(bucket_object)\n"
      ],
      "execution_count": 114,
      "outputs": [
        {
          "output_type": "execute_result",
          "data": {
            "image/png": "gs://BUCKET_NAME/google.png",
            "text/plain": [
              "<IPython.core.display.Image object>"
            ]
          },
          "metadata": {
            "tags": []
          },
          "execution_count": 114
        }
      ]
    },
    {
      "metadata": {
        "id": "SBW88U1KRgVm",
        "colab_type": "code",
        "colab": {
          "base_uri": "https://localhost:8080/",
          "height": 68
        },
        "outputId": "c5804002-1d95-442d-c6f8-8ecfda4bf4c7"
      },
      "cell_type": "code",
      "source": [
        "from apiclient.http import MediaIoBaseDownload\n",
        "\n",
        "with open('test_f', 'wb') as f:\n",
        "  request = gcs_service.objects().get(bucket=BUCKET,\n",
        "                                            object=test_file)\n",
        " \n",
        "  print(request)\n",
        "  \n",
        "  #gray=skimage.data.load(val)\n",
        "  #print(val)\n",
        "  media = MediaIoBaseDownload(f, request)\n",
        "\n",
        "  \n",
        "\n",
        "  done = False\n",
        "  while not done:\n",
        "    # _ is a placeholder for a progress object that we ignore.\n",
        "    # (Our file is small, so we skip reporting progress.)\n",
        "    _, done = media.next_chunk()\n",
        "    \n",
        "print(type(media))\n",
        "    \n",
        "\n",
        "print('Download complete')"
      ],
      "execution_count": 153,
      "outputs": [
        {
          "output_type": "stream",
          "text": [
            "<googleapiclient.http.HttpRequest object at 0x7f146606f438>\n",
            "<class 'googleapiclient.http.MediaIoBaseDownload'>\n",
            "Download complete\n"
          ],
          "name": "stdout"
        }
      ]
    },
    {
      "metadata": {
        "id": "q3vfQbqKo2V2",
        "colab_type": "code",
        "colab": {
          "base_uri": "https://localhost:8080/",
          "height": 231
        },
        "outputId": "2ae30482-126f-48df-d560-eeae7d30b649"
      },
      "cell_type": "code",
      "source": [
        "with open('test_f', 'wb') as f:\n",
        "  request = gcs_service.objects().get(bucket=BUCKET,\n",
        "                                            object=test_file)\n",
        " \n",
        "  print(request)\n",
        "  \n",
        "  #gray=skimage.data.load(val)\n",
        "  #print(val)\n",
        "  media = MediaIoBaseDownload(f, request)\n",
        "\n",
        "  \n",
        "\n",
        "  done = False\n",
        "  while not done:\n",
        "    # _ is a placeholder for a progress object that we ignore.\n",
        "    # (Our file is small, so we skip reporting progress.)\n",
        "    _, done = media.next_chunk()\n",
        "    \n",
        "print(type(media))\n",
        "image = cv2.imread(media)\n"
      ],
      "execution_count": 190,
      "outputs": [
        {
          "output_type": "stream",
          "text": [
            "<googleapiclient.http.HttpRequest object at 0x7f1466014dd8>\n",
            "<class 'googleapiclient.http.MediaIoBaseDownload'>\n"
          ],
          "name": "stdout"
        },
        {
          "output_type": "error",
          "ename": "TypeError",
          "evalue": "ignored",
          "traceback": [
            "\u001b[0;31m---------------------------------------------------------------------------\u001b[0m",
            "\u001b[0;31mTypeError\u001b[0m                                 Traceback (most recent call last)",
            "\u001b[0;32m<ipython-input-190-1d2ebfbecf4d>\u001b[0m in \u001b[0;36m<module>\u001b[0;34m()\u001b[0m\n\u001b[1;32m     18\u001b[0m \u001b[0;34m\u001b[0m\u001b[0m\n\u001b[1;32m     19\u001b[0m \u001b[0mprint\u001b[0m\u001b[0;34m(\u001b[0m\u001b[0mtype\u001b[0m\u001b[0;34m(\u001b[0m\u001b[0mmedia\u001b[0m\u001b[0;34m)\u001b[0m\u001b[0;34m)\u001b[0m\u001b[0;34m\u001b[0m\u001b[0m\n\u001b[0;32m---> 20\u001b[0;31m \u001b[0mimage\u001b[0m \u001b[0;34m=\u001b[0m \u001b[0mcv2\u001b[0m\u001b[0;34m.\u001b[0m\u001b[0mimread\u001b[0m\u001b[0;34m(\u001b[0m\u001b[0mmedia\u001b[0m\u001b[0;34m)\u001b[0m\u001b[0;34m\u001b[0m\u001b[0m\n\u001b[0m",
            "\u001b[0;31mTypeError\u001b[0m: bad argument type for built-in operation"
          ]
        }
      ]
    },
    {
      "metadata": {
        "id": "S3wkQYYxWJMv",
        "colab_type": "code",
        "colab": {}
      },
      "cell_type": "code",
      "source": [
        "def import_image(filename):\n",
        "    #color=skimage.data.load(filename)\n",
        "    gray=skimage.data.load(filename)\n",
        "    print(np.shape(gray))\n",
        "    gray_m=np.asmatrix(gray)\n",
        "    return(gray_m)"
      ],
      "execution_count": 0,
      "outputs": []
    },
    {
      "metadata": {
        "id": "8wJMwO2GXb24",
        "colab_type": "code",
        "colab": {}
      },
      "cell_type": "code",
      "source": [
        "def create_matrix():\n",
        "    cwd = os.getcwd()\n",
        "    path=cwd+\"\\\\images\"\n",
        "    files = os.listdir(path)\n",
        "    gray_data=[]\n",
        "    filenames=[]\n",
        "    for infile in files:\n",
        "        filenames.append(infile[:-4])\n",
        "        gray=import_image(path+\"\\\\\"+infile)\n",
        "        gray_data.append(gray)\n",
        "    gray_data=np.array(gray_data)\n",
        "    print(np.shape(gray_data))\n",
        "    #print(gray_data)\n",
        "    return(filenames, gray_data)\n",
        "\n",
        "create_matrix()"
      ],
      "execution_count": 0,
      "outputs": []
    }
  ]
}