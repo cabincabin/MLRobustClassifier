{
  "nbformat": 4,
  "nbformat_minor": 0,
  "metadata": {
    "colab": {
      "name": "GCP_mlapis.ipynb",
      "version": "0.3.2",
      "provenance": [],
      "collapsed_sections": []
    },
    "kernelspec": {
      "display_name": "Python 3",
      "language": "python",
      "name": "python3"
    }
  },
  "cells": [
    {
      "metadata": {
        "colab_type": "text",
        "id": "S5EgSNLvXywU"
      },
      "cell_type": "markdown",
      "source": [
        "# Google Cloud Platform - Using Machine Learning APIs  ).\n",
        "\n",
        "This is an upgraded Python revision of [this notebook](https://github.com/GoogleCloudPlatform/training-data-analyst/blob/master/CPB100/lab4c/mlapis.ipynb).\n",
        "\n",
        "This notebook originally was being processed using DataLab on the Google Cloud Platform.  This particular incarnation of the notebook is for running on Google Colaboratory which I am trying out for the first time.\n",
        "\n",
        "### Security\n",
        "\n",
        "First things first - we need to authenticate against the Google Cloud APIs.\n",
        "\n",
        "#### Getting a Google API Credential.\n",
        "\n",
        "First, visit <a href=\"http://console.cloud.google.com/apis\">API console</a>, choose \"Credentials\" on the left-hand menu.  Choose \"Create Credentials\" and generate an API key for your application. You should probably restrict it by IP address to prevent abuse, but for now, just  leave that field blank and delete the API key after trying out this demo.\n",
        "\n",
        "Then, when you have your key, you will enter it in this first executable cell:"
      ]
    },
    {
      "metadata": {
        "id": "laePw6L_Rt8c",
        "colab_type": "code",
        "colab": {
          "base_uri": "https://localhost:8080/",
          "height": 1023
        },
        "outputId": "b942992e-8ab8-431a-ca27-348d52ff0d2b"
      },
      "cell_type": "code",
      "source": [
        "!pip install -q cloudstorage\n",
        "!pip install -q webapp2\n",
        "!pip install --upgrade numpy\n",
        "!pip install six==1.10.0\n",
        "!pip install -q datalab\n",
        "! pip install --upgrade gcs-client\n"
      ],
      "execution_count": 1,
      "outputs": [
        {
          "output_type": "stream",
          "text": [
            "Collecting numpy\n",
            "\u001b[?25l  Downloading https://files.pythonhosted.org/packages/ff/7f/9d804d2348471c67a7d8b5f84f9bc59fd1cefa148986f2b74552f8573555/numpy-1.15.4-cp36-cp36m-manylinux1_x86_64.whl (13.9MB)\n",
            "\u001b[K    100% |████████████████████████████████| 13.9MB 2.5MB/s \n",
            "\u001b[?25hInstalling collected packages: numpy\n",
            "  Found existing installation: numpy 1.14.6\n",
            "    Uninstalling numpy-1.14.6:\n",
            "      Successfully uninstalled numpy-1.14.6\n",
            "Successfully installed numpy-1.15.4\n",
            "Collecting six==1.10.0\n",
            "  Downloading https://files.pythonhosted.org/packages/c8/0a/b6723e1bc4c516cb687841499455a8505b44607ab535be01091c0f24f079/six-1.10.0-py2.py3-none-any.whl\n",
            "\u001b[31mgoogle-colab 0.0.1a1 has requirement six~=1.11.0, but you'll have six 1.10.0 which is incompatible.\u001b[0m\n",
            "Installing collected packages: six\n",
            "  Found existing installation: six 1.11.0\n",
            "    Uninstalling six-1.11.0:\n",
            "      Successfully uninstalled six-1.11.0\n",
            "Successfully installed six-1.10.0\n",
            "Collecting gcs-client\n",
            "  Downloading https://files.pythonhosted.org/packages/f1/a9/c5ad5745b0146aada03f13313bbf34735f26df8308973a2348b7772f31ec/gcs_client-0.2.2-py2.py3-none-any.whl\n",
            "Requirement already satisfied, skipping upgrade: requests[security]<3 in /usr/local/lib/python3.6/dist-packages (from gcs-client) (2.18.4)\n",
            "Collecting oauth2client<2 (from gcs-client)\n",
            "\u001b[?25l  Downloading https://files.pythonhosted.org/packages/fc/41/974970101bde842f23031075bea7f6d051ed82b5fd806b6ef9cc7e983c01/oauth2client-1.5.2.tar.gz (56kB)\n",
            "\u001b[K    100% |████████████████████████████████| 61kB 4.6MB/s \n",
            "\u001b[?25hRequirement already satisfied, skipping upgrade: urllib3<1.23,>=1.21.1 in /usr/local/lib/python3.6/dist-packages (from requests[security]<3->gcs-client) (1.22)\n",
            "Requirement already satisfied, skipping upgrade: certifi>=2017.4.17 in /usr/local/lib/python3.6/dist-packages (from requests[security]<3->gcs-client) (2018.10.15)\n",
            "Requirement already satisfied, skipping upgrade: idna<2.7,>=2.5 in /usr/local/lib/python3.6/dist-packages (from requests[security]<3->gcs-client) (2.6)\n",
            "Requirement already satisfied, skipping upgrade: chardet<3.1.0,>=3.0.2 in /usr/local/lib/python3.6/dist-packages (from requests[security]<3->gcs-client) (3.0.4)\n",
            "Collecting cryptography>=1.3.4; extra == \"security\" (from requests[security]<3->gcs-client)\n",
            "\u001b[?25l  Downloading https://files.pythonhosted.org/packages/ec/18/1583e40c38ff8572c42e56ce17b95357a9ebb91375cfbd7aad63cac9a32e/cryptography-2.4.1-cp34-abi3-manylinux1_x86_64.whl (2.1MB)\n",
            "\u001b[K    100% |████████████████████████████████| 2.1MB 8.6MB/s \n",
            "\u001b[?25hCollecting pyOpenSSL>=0.14; extra == \"security\" (from requests[security]<3->gcs-client)\n",
            "\u001b[?25l  Downloading https://files.pythonhosted.org/packages/96/af/9d29e6bd40823061aea2e0574ccb2fcf72bfd6130ce53d32773ec375458c/pyOpenSSL-18.0.0-py2.py3-none-any.whl (53kB)\n",
            "\u001b[K    100% |████████████████████████████████| 61kB 23.5MB/s \n",
            "\u001b[?25hRequirement already satisfied, skipping upgrade: httplib2>=0.9.1 in /usr/local/lib/python3.6/dist-packages (from oauth2client<2->gcs-client) (0.11.3)\n",
            "Requirement already satisfied, skipping upgrade: pyasn1>=0.1.7 in /usr/local/lib/python3.6/dist-packages (from oauth2client<2->gcs-client) (0.4.4)\n",
            "Requirement already satisfied, skipping upgrade: pyasn1-modules>=0.0.5 in /usr/local/lib/python3.6/dist-packages (from oauth2client<2->gcs-client) (0.2.2)\n",
            "Requirement already satisfied, skipping upgrade: rsa>=3.1.4 in /usr/local/lib/python3.6/dist-packages (from oauth2client<2->gcs-client) (4.0)\n",
            "Requirement already satisfied, skipping upgrade: six>=1.6.1 in /usr/local/lib/python3.6/dist-packages (from oauth2client<2->gcs-client) (1.10.0)\n",
            "Collecting asn1crypto>=0.21.0 (from cryptography>=1.3.4; extra == \"security\"->requests[security]<3->gcs-client)\n",
            "\u001b[?25l  Downloading https://files.pythonhosted.org/packages/ea/cd/35485615f45f30a510576f1a56d1e0a7ad7bd8ab5ed7cdc600ef7cd06222/asn1crypto-0.24.0-py2.py3-none-any.whl (101kB)\n",
            "\u001b[K    100% |████████████████████████████████| 102kB 18.7MB/s \n",
            "\u001b[?25hCollecting cffi!=1.11.3,>=1.7 (from cryptography>=1.3.4; extra == \"security\"->requests[security]<3->gcs-client)\n",
            "\u001b[?25l  Downloading https://files.pythonhosted.org/packages/6d/c0/47db8f624f3e4e2f3f27be03a93379d1ba16a1450a7b1aacfa0366e2c0dd/cffi-1.11.5-cp36-cp36m-manylinux1_x86_64.whl (421kB)\n",
            "\u001b[K    100% |████████████████████████████████| 430kB 15.4MB/s \n",
            "\u001b[?25hCollecting pycparser (from cffi!=1.11.3,>=1.7->cryptography>=1.3.4; extra == \"security\"->requests[security]<3->gcs-client)\n",
            "\u001b[?25l  Downloading https://files.pythonhosted.org/packages/68/9e/49196946aee219aead1290e00d1e7fdeab8567783e83e1b9ab5585e6206a/pycparser-2.19.tar.gz (158kB)\n",
            "\u001b[K    100% |████████████████████████████████| 163kB 15.0MB/s \n",
            "\u001b[?25hBuilding wheels for collected packages: oauth2client, pycparser\n",
            "  Running setup.py bdist_wheel for oauth2client ... \u001b[?25l-\b \b\\\b \bdone\n",
            "\u001b[?25h  Stored in directory: /root/.cache/pip/wheels/7a/0b/de/3f8e939ae5f46f030eee5a16bd2dafde9e1e49ea1480b2f983\n",
            "  Running setup.py bdist_wheel for pycparser ... \u001b[?25l-\b \b\\\b \bdone\n",
            "\u001b[?25h  Stored in directory: /root/.cache/pip/wheels/f2/9a/90/de94f8556265ddc9d9c8b271b0f63e57b26fb1d67a45564511\n",
            "Successfully built oauth2client pycparser\n",
            "\u001b[31mdatalab 1.1.4 has requirement oauth2client>=2.2.0, but you'll have oauth2client 1.5.2 which is incompatible.\u001b[0m\n",
            "Installing collected packages: oauth2client, gcs-client, asn1crypto, pycparser, cffi, cryptography, pyOpenSSL\n",
            "  Found existing installation: oauth2client 4.1.3\n",
            "    Uninstalling oauth2client-4.1.3:\n",
            "      Successfully uninstalled oauth2client-4.1.3\n",
            "Successfully installed asn1crypto-0.24.0 cffi-1.11.5 cryptography-2.4.1 gcs-client-0.2.2 oauth2client-1.5.2 pyOpenSSL-18.0.0 pycparser-2.19\n"
          ],
          "name": "stdout"
        }
      ]
    },
    {
      "metadata": {
        "id": "qpFSNLnt_1yL",
        "colab_type": "text"
      },
      "cell_type": "markdown",
      "source": [
        ""
      ]
    },
    {
      "metadata": {
        "id": "Pz9dCCuaZgD7",
        "colab_type": "code",
        "outputId": "5cde9529-3c73-4c21-d9f5-4501931f3c3d",
        "colab": {
          "base_uri": "https://localhost:8080/",
          "height": 34
        }
      },
      "cell_type": "code",
      "source": [
        "import getpass\n",
        "\n",
        "APIKEY = getpass.getpass()"
      ],
      "execution_count": 2,
      "outputs": [
        {
          "output_type": "stream",
          "text": [
            "··········\n"
          ],
          "name": "stdout"
        }
      ]
    },
    {
      "metadata": {
        "id": "ZnvgmLnVWWor",
        "colab_type": "code",
        "colab": {}
      },
      "cell_type": "code",
      "source": [
        "import sys\n",
        "import json\n",
        "import argparse\n",
        "import googleapiclient.discovery\n",
        "import pandas as pd\n",
        "import skimage.data\n",
        "from skimage import img_as_float\n",
        "import numpy as np\n",
        "import pandas as pd\n",
        "import os\n",
        "import sys\n",
        "import tensorflow as tf\n",
        "import zipfile\n",
        "\n",
        "from collections import defaultdict\n",
        "from io import StringIO\n",
        "from matplotlib import pyplot as plt\n",
        "from PIL import Image\n",
        "%matplotlib inline"
      ],
      "execution_count": 0,
      "outputs": []
    },
    {
      "metadata": {
        "id": "jjQ4qVAe7h_3",
        "colab_type": "code",
        "colab": {}
      },
      "cell_type": "code",
      "source": [
        "# Authenticate to GCS.\n",
        "from google.colab import auth\n",
        "auth.authenticate_user()\n",
        "\n",
        "# Create the service client.\n",
        "from googleapiclient.discovery import build\n",
        "gcs_service = build('storage', 'v1')\n",
        "\n",
        "\n",
        "BUCKET = 'wpiopenimageskaggle' "
      ],
      "execution_count": 0,
      "outputs": []
    },
    {
      "metadata": {
        "id": "zhvXTvskJ63Q",
        "colab_type": "code",
        "colab": {}
      },
      "cell_type": "code",
      "source": [
        "def create_service():\n",
        "    return googleapiclient.discovery.build('storage', 'v1')\n",
        "\n",
        "\n",
        "def list_bucket(bucket):\n",
        "    \"\"\"Returns a list of metadata of the objects within the given bucket.\"\"\"\n",
        "    service = create_service()\n",
        "\n",
        "    # Create a request to objects.list to retrieve a list of objects.\n",
        "    fields_to_return = 'nextPageToken,items(name,size,contentType,metadata(my-key))'\n",
        "    req = service.objects().list(bucket=bucket, fields=fields_to_return, prefix='Boat')  # returns everything. UrbanSound is top dir in bucket\n",
        "\n",
        "    all_objects = []\n",
        "    # If you have too many items to list in one request, list_next() will\n",
        "    # automatically handle paging with the pageToken.\n",
        "    while req:\n",
        "        resp = req.execute()\n",
        "        all_objects.extend(resp.get('items', []))\n",
        "        req = service.objects().list_next(req, resp)\n",
        "    return all_objects\n",
        "\n",
        "raw_json=json.dumps(list_bucket(BUCKET), indent=2)"
      ],
      "execution_count": 0,
      "outputs": []
    },
    {
      "metadata": {
        "id": "DWbzeSCWMFGy",
        "colab_type": "code",
        "outputId": "1b4eae81-d650-4a62-d57e-0d4e0ac1b12e",
        "colab": {
          "base_uri": "https://localhost:8080/",
          "height": 51
        }
      },
      "cell_type": "code",
      "source": [
        "test=pd.read_json(raw_json)\n",
        "print(test[1:2])"
      ],
      "execution_count": 7,
      "outputs": [
        {
          "output_type": "stream",
          "text": [
            "  contentType                       name    size\n",
            "1  image/jpeg  Boat/002200be72145198.jpg  421363\n"
          ],
          "name": "stdout"
        }
      ]
    },
    {
      "metadata": {
        "id": "JjRZTq3ZM0yK",
        "colab_type": "code",
        "outputId": "4a0205de-4dd9-4f47-8060-b72233babdd9",
        "colab": {
          "base_uri": "https://localhost:8080/",
          "height": 34
        }
      },
      "cell_type": "code",
      "source": [
        "files=test['name']\n",
        "test_file=test['name'].apply(str)[1]\n",
        "print(test_file)"
      ],
      "execution_count": 14,
      "outputs": [
        {
          "output_type": "stream",
          "text": [
            "Boat/002200be72145198.jpg\n"
          ],
          "name": "stdout"
        }
      ]
    },
    {
      "metadata": {
        "id": "ZfxqciprCbJV",
        "colab_type": "code",
        "colab": {
          "base_uri": "https://localhost:8080/",
          "height": 68
        },
        "outputId": "32dc84f8-3784-4bdd-9dc0-4d95e8d73d3c"
      },
      "cell_type": "code",
      "source": [
        "from apiclient.http import MediaIoBaseDownload\n",
        "\n",
        "with open('test_f', 'wb') as f:\n",
        "  request = gcs_service.objects().get(bucket=BUCKET,\n",
        "                                            object=test_file)\n",
        " \n",
        "  print(request)\n",
        "  \n",
        "  #gray=skimage.data.load(val)\n",
        "  #print(val)\n",
        "  media = MediaIoBaseDownload(f, request)\n",
        "\n",
        "  \n",
        "\n",
        "  done = False\n",
        "  while not done:\n",
        "    # _ is a placeholder for a progress object that we ignore.\n",
        "    # (Our file is small, so we skip reporting progress.)\n",
        "    _, done = media.next_chunk()\n",
        "    \n",
        "print(type(media))\n",
        "    \n",
        "\n",
        "print('Download complete')"
      ],
      "execution_count": 15,
      "outputs": [
        {
          "output_type": "stream",
          "text": [
            "<googleapiclient.http.HttpRequest object at 0x7f200b7a7f28>\n",
            "<class 'googleapiclient.http.MediaIoBaseDownload'>\n",
            "Download complete\n"
          ],
          "name": "stdout"
        }
      ]
    },
    {
      "metadata": {
        "id": "BZ0MMdhNCOrd",
        "colab_type": "text"
      },
      "cell_type": "markdown",
      "source": [
        "**BELOW THIS POINT IS CODE TRIED THAT DOESN'T WORK KEPT FOR REFERENCE**"
      ]
    },
    {
      "metadata": {
        "id": "ttZbdU1t8n0g",
        "colab_type": "code",
        "colab": {}
      },
      "cell_type": "code",
      "source": [
        ""
      ],
      "execution_count": 0,
      "outputs": []
    },
    {
      "metadata": {
        "id": "0hD_bWF1ptUG",
        "colab_type": "code",
        "outputId": "e54df238-5e8b-4a63-f92e-3a80d2fb9194",
        "colab": {
          "base_uri": "https://localhost:8080/",
          "height": 129
        }
      },
      "cell_type": "code",
      "source": [
        "def url_to_image(url):\n",
        "\t# download the image, convert it to a NumPy array, and then read\n",
        "\t# it into OpenCV format\n",
        "\tresp = urllib.urlopen(url)\n",
        "\timage = np.asarray(bytearray(resp.read()), dtype=\"uint8\")\n",
        "\timage = cv2.imdecode(image, cv2.IMREAD_COLOR)\n",
        " \n",
        "\t# return the image\n",
        "\treturn image"
      ],
      "execution_count": 0,
      "outputs": [
        {
          "output_type": "error",
          "ename": "IndentationError",
          "evalue": "ignored",
          "traceback": [
            "\u001b[0;36m  File \u001b[0;32m\"<ipython-input-163-035893b4ced9>\"\u001b[0;36m, line \u001b[0;32m7\u001b[0m\n\u001b[0;31m    s = url.read()\u001b[0m\n\u001b[0m                  ^\u001b[0m\n\u001b[0;31mIndentationError\u001b[0m\u001b[0;31m:\u001b[0m unindent does not match any outer indentation level\n"
          ]
        }
      ]
    },
    {
      "metadata": {
        "id": "vLeZZqorqTlP",
        "colab_type": "code",
        "colab": {}
      },
      "cell_type": "code",
      "source": [
        "def url_to_image(url):\n",
        "\t# download the image, convert it to a NumPy array, and then read\n",
        "\t# it into OpenCV format\n",
        "  with urllib.request.urlopen(url) as file:\n",
        "      resp=file.read()\n",
        "      image = np.asarray(bytearray(resp.read()), dtype=\"uint8\")\n",
        "      image = cv2.imdecode(image, cv2.IMREAD_COLOR)\n",
        "  return image"
      ],
      "execution_count": 0,
      "outputs": []
    },
    {
      "metadata": {
        "id": "B7UCdD5_reSs",
        "colab_type": "code",
        "colab": {}
      },
      "cell_type": "code",
      "source": [
        "with urllib.request.urlopen(\"http://www.python.org\") as url:\n",
        "    s = url.read()\n",
        "#I'm guessing this would"
      ],
      "execution_count": 0,
      "outputs": []
    },
    {
      "metadata": {
        "id": "cyaTEWXGpBHP",
        "colab_type": "code",
        "outputId": "6cc62886-2d1b-43a4-9973-bffa66e3b527",
        "colab": {
          "base_uri": "https://localhost:8080/",
          "height": 68
        }
      },
      "cell_type": "code",
      "source": [
        "bucket = BUCKET\n",
        "file = test_file\n",
        "gcs_url = 'https://%(bucket)s.storage.googleapis.com/%(file)s' % {'bucket':bucket, 'file':file}\n",
        "\n",
        "print(gcs_url)"
      ],
      "execution_count": 0,
      "outputs": [
        {
          "output_type": "stream",
          "text": [
            "https://wpiopenimageskaggle.storage.googleapis.com/Boat/002200be72145198.jpg\n",
            "adc.json  sample_data  test_f\n"
          ],
          "name": "stdout"
        },
        {
          "output_type": "execute_result",
          "data": {
            "text/plain": [
              "'/content'"
            ]
          },
          "metadata": {
            "tags": []
          },
          "execution_count": 189
        }
      ]
    },
    {
      "metadata": {
        "id": "Y5zE2wrRzHXk",
        "colab_type": "text"
      },
      "cell_type": "markdown",
      "source": [
        ""
      ]
    },
    {
      "metadata": {
        "id": "cf-k31pfgTUB",
        "colab_type": "code",
        "outputId": "5d1f33d8-5536-4b94-afae-a03e6be9f053",
        "colab": {
          "base_uri": "https://localhost:8080/",
          "height": 34
        }
      },
      "cell_type": "code",
      "source": [
        "# Imports\n",
        "from google.datalab import Context\n",
        "from IPython.display import Image\n",
        "\n",
        "# Define the bucket and and an example image to read\n",
        "bucket_path = \"gs://BUCKET_NAME\"\n",
        "bucket_object = bucket_path + \"/google.png\"\n",
        "\n",
        "# List all the objects in your bucket, and read the example image file\n",
        "%gcs list --objects $bucket_path\n",
        "%gcs read --object $bucket_object -v img\n",
        "\n",
        "# Print the image content (see it is in PNG format) and show it\n",
        "print(type(img))\n",
        "img\n",
        "Image(img)"
      ],
      "execution_count": 0,
      "outputs": [
        {
          "output_type": "stream",
          "text": [
            "UsageError: Line magic function `%gcs` not found.\n"
          ],
          "name": "stderr"
        }
      ]
    },
    {
      "metadata": {
        "id": "BADyIXXPbqsc",
        "colab_type": "code",
        "outputId": "9463ad1d-18a9-41b6-b243-664a08b21e6e",
        "colab": {
          "base_uri": "https://localhost:8080/",
          "height": 34
        }
      },
      "cell_type": "code",
      "source": [
        "# Imports\n",
        "from google.datalab import Context\n",
        "from IPython.display import Image\n",
        "\n",
        "# Define the bucket and and an example image to read\n",
        "bucket_path = \"gs://\"+'wpiopenimageskaggle/'\n",
        "bucket_object = bucket_path + test_file\n",
        "\n",
        "# List all the objects in your bucket, and read the example image file\n",
        "%gcs list --objects $bucket_path\n",
        "%gcs read --object $bucket_object -v img\n",
        "\n",
        "# Print the image content (see it is in PNG format) and show it\n",
        "print(type(img))\n",
        "img\n",
        "Image(img)"
      ],
      "execution_count": 0,
      "outputs": [
        {
          "output_type": "stream",
          "text": [
            "UsageError: Line magic function `%gcs` not found.\n"
          ],
          "name": "stderr"
        }
      ]
    },
    {
      "metadata": {
        "id": "SBW88U1KRgVm",
        "colab_type": "code",
        "outputId": "d598d798-29ef-48f8-a811-40fb3c1cc825",
        "colab": {
          "base_uri": "https://localhost:8080/",
          "height": 231
        }
      },
      "cell_type": "code",
      "source": [
        "from apiclient.http import MediaIoBaseDownload\n",
        "\n",
        "with open('test_f', 'wb') as f:\n",
        "  request = gcs_service.objects().get(bucket=BUCKET,\n",
        "                                            object=test_file)\n",
        " \n",
        "  print(request)\n",
        "  \n",
        "  #gray=skimage.data.load(val)\n",
        "  #print(val)\n",
        "  media = MediaIoBaseDownload(f, request)\n",
        "\n",
        "  \n",
        "\n",
        "  done = False\n",
        "  while not done:\n",
        "    # _ is a placeholder for a progress object that we ignore.\n",
        "    # (Our file is small, so we skip reporting progress.)\n",
        "    _, done = media.next_chunk()\n",
        "    \n",
        "print(type(media))\n",
        "    \n",
        "\n",
        "print('Download complete')"
      ],
      "execution_count": 11,
      "outputs": [
        {
          "output_type": "error",
          "ename": "NameError",
          "evalue": "ignored",
          "traceback": [
            "\u001b[0;31m---------------------------------------------------------------------------\u001b[0m",
            "\u001b[0;31mNameError\u001b[0m                                 Traceback (most recent call last)",
            "\u001b[0;32m<ipython-input-11-34ba1368c190>\u001b[0m in \u001b[0;36m<module>\u001b[0;34m()\u001b[0m\n\u001b[1;32m      3\u001b[0m \u001b[0;32mwith\u001b[0m \u001b[0mopen\u001b[0m\u001b[0;34m(\u001b[0m\u001b[0;34m'test_f'\u001b[0m\u001b[0;34m,\u001b[0m \u001b[0;34m'wb'\u001b[0m\u001b[0;34m)\u001b[0m \u001b[0;32mas\u001b[0m \u001b[0mf\u001b[0m\u001b[0;34m:\u001b[0m\u001b[0;34m\u001b[0m\u001b[0m\n\u001b[1;32m      4\u001b[0m   request = gcs_service.objects().get(bucket=BUCKET,\n\u001b[0;32m----> 5\u001b[0;31m                                             object=test_file)\n\u001b[0m\u001b[1;32m      6\u001b[0m \u001b[0;34m\u001b[0m\u001b[0m\n\u001b[1;32m      7\u001b[0m   \u001b[0mprint\u001b[0m\u001b[0;34m(\u001b[0m\u001b[0mrequest\u001b[0m\u001b[0;34m)\u001b[0m\u001b[0;34m\u001b[0m\u001b[0m\n",
            "\u001b[0;31mNameError\u001b[0m: name 'test_file' is not defined"
          ]
        }
      ]
    },
    {
      "metadata": {
        "id": "S3wkQYYxWJMv",
        "colab_type": "code",
        "colab": {}
      },
      "cell_type": "code",
      "source": [
        "def import_image(filename):\n",
        "    #color=skimage.data.load(filename)\n",
        "    gray=skimage.data.load(filename)\n",
        "    print(np.shape(gray))\n",
        "    gray_m=np.asmatrix(gray)\n",
        "    return(gray_m)"
      ],
      "execution_count": 0,
      "outputs": []
    },
    {
      "metadata": {
        "id": "8wJMwO2GXb24",
        "colab_type": "code",
        "colab": {}
      },
      "cell_type": "code",
      "source": [
        "def create_matrix():\n",
        "    cwd = os.getcwd()\n",
        "    path=cwd+\"\\\\images\"\n",
        "    files = os.listdir(path)\n",
        "    gray_data=[]\n",
        "    filenames=[]\n",
        "    for infile in files:\n",
        "        filenames.append(infile[:-4])\n",
        "        gray=import_image(path+\"\\\\\"+infile)\n",
        "        gray_data.append(gray)\n",
        "    gray_data=np.array(gray_data)\n",
        "    print(np.shape(gray_data))\n",
        "    #print(gray_data)\n",
        "    return(filenames, gray_data)\n",
        "\n",
        "create_matrix()"
      ],
      "execution_count": 0,
      "outputs": []
    },
    {
      "metadata": {
        "id": "jlktKlQGCFdu",
        "colab_type": "code",
        "colab": {}
      },
      "cell_type": "code",
      "source": [
        " \n",
        "def get_image(bucket,file):\n",
        "    image_vec=[]\n",
        "    return image_vec\n",
        "\n",
        "\n",
        "# usage"
      ],
      "execution_count": 0,
      "outputs": []
    }
  ]
}