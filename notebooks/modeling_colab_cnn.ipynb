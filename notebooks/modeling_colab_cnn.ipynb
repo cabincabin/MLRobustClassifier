{
  "nbformat": 4,
  "nbformat_minor": 0,
  "metadata": {
    "colab": {
      "name": "GCP_mlapis.ipynb",
      "version": "0.3.2",
      "provenance": [],
      "collapsed_sections": []
    },
    "kernelspec": {
      "name": "python3",
      "display_name": "Python 3"
    },
    "accelerator": "GPU"
  },
  "cells": [
    {
      "metadata": {
        "colab_type": "text",
        "id": "S5EgSNLvXywU"
      },
      "cell_type": "markdown",
      "source": [
        "# Google Cloud Platform - Using Machine Learning APIs  ).\n",
        "\n",
        "This is an upgraded Python revision of [this notebook](https://github.com/GoogleCloudPlatform/training-data-analyst/blob/master/CPB100/lab4c/mlapis.ipynb).\n",
        "\n",
        "This notebook originally was being processed using DataLab on the Google Cloud Platform.  This particular incarnation of the notebook is for running on Google Colaboratory which I am trying out for the first time.\n",
        "\n",
        "### Security\n",
        "\n",
        "First things first - we need to authenticate against the Google Cloud APIs.\n",
        "\n",
        "#### Getting a Google API Credential.\n",
        "\n",
        "First, visit <a href=\"http://console.cloud.google.com/apis\">API console</a>, choose \"Credentials\" on the left-hand menu.  Choose \"Create Credentials\" and generate an API key for your application. You should probably restrict it by IP address to prevent abuse, but for now, just  leave that field blank and delete the API key after trying out this demo.\n",
        "\n",
        "Then, when you have your key, you will enter it in this first executable cell:"
      ]
    },
    {
      "metadata": {
        "id": "laePw6L_Rt8c",
        "colab_type": "code",
        "outputId": "0eeec280-3c39-41fd-dfe5-4d3726dc3359",
        "colab": {
          "base_uri": "https://localhost:8080/",
          "height": 54
        }
      },
      "cell_type": "code",
      "source": [
        "\n",
        "'''\n",
        "!pip install -q cloudstorage\n",
        "!pip install -q webapp2\n",
        "!pip install --upgrade numpy\n",
        "!pip install six==1.10.0\n",
        "!pip install -q datalab\n",
        "!pip install --upgrade gcs-client\n",
        "!pip install --upgrade google-cloud-storage\n",
        "!pip install --upgrade google-api-python-client\n",
        "!pip install opencv-python\n",
        "!pip install gcsfs\n",
        "'''"
      ],
      "execution_count": 0,
      "outputs": [
        {
          "output_type": "execute_result",
          "data": {
            "text/plain": [
              "'\\n!pip install -q cloudstorage\\n!pip install -q webapp2\\n!pip install --upgrade numpy\\n!pip install six==1.10.0\\n!pip install -q datalab\\n!pip install --upgrade gcs-client\\n!pip install --upgrade google-cloud-storage\\n!pip install --upgrade google-api-python-client\\n!pip install opencv-python\\n!pip install gcsfs\\n'"
            ]
          },
          "metadata": {
            "tags": []
          },
          "execution_count": 1
        }
      ]
    },
    {
      "metadata": {
        "id": "qpFSNLnt_1yL",
        "colab_type": "text"
      },
      "cell_type": "markdown",
      "source": [
        ""
      ]
    },
    {
      "metadata": {
        "id": "Pz9dCCuaZgD7",
        "colab_type": "code",
        "outputId": "d1136265-aaef-4b7a-8eda-5300ed0f36db",
        "colab": {
          "base_uri": "https://localhost:8080/",
          "height": 34
        }
      },
      "cell_type": "code",
      "source": [
        "import getpass\n",
        "\n",
        "APIKEY = getpass.getpass()"
      ],
      "execution_count": 2,
      "outputs": [
        {
          "output_type": "stream",
          "text": [
            "··········\n"
          ],
          "name": "stdout"
        }
      ]
    },
    {
      "metadata": {
        "id": "ZnvgmLnVWWor",
        "colab_type": "code",
        "outputId": "9d0c1a73-0cb2-487c-fda7-df138178fc60",
        "colab": {
          "base_uri": "https://localhost:8080/",
          "height": 34
        }
      },
      "cell_type": "code",
      "source": [
        "import sys\n",
        "import json\n",
        "import argparse\n",
        "import googleapiclient.discovery\n",
        "import pandas as pd\n",
        "import skimage.data\n",
        "from skimage import img_as_float\n",
        "import numpy as np\n",
        "import pandas as pd\n",
        "import os\n",
        "import sys\n",
        "import tensorflow as tf\n",
        "import zipfile\n",
        "import cv2\n",
        "\n",
        "from collections import defaultdict\n",
        "from io import StringIO\n",
        "from matplotlib import pyplot as plt\n",
        "from PIL import Image\n",
        "%matplotlib inline\n",
        "import io\n",
        "\n",
        "\n",
        "import sys\n",
        "import json\n",
        "import argparse\n",
        "import googleapiclient.discovery\n",
        "import pandas as pd\n",
        "import skimage.data\n",
        "from skimage import img_as_float\n",
        "import numpy as np\n",
        "import pandas as pd\n",
        "import os\n",
        "import sys\n",
        "import tensorflow as tf\n",
        "import zipfile\n",
        "import cv2\n",
        "\n",
        "from collections import defaultdict\n",
        "from io import StringIO\n",
        "from matplotlib import pyplot as plt\n",
        "from PIL import Image\n",
        "%matplotlib inline\n",
        "import io\n",
        "from google.cloud import storage\n",
        "\n",
        "\n",
        "import numpy as np\n",
        "import keras\n",
        "from keras.models import Sequential\n",
        "from keras.layers import Dense, Dropout, Activation, Flatten\n",
        "from keras.layers import Conv2D, MaxPooling2D\n",
        "from keras.utils import np_utils\n",
        "from keras.datasets import mnist\n",
        "from keras.callbacks import TensorBoard\n",
        "from matplotlib import pyplot as plt\n",
        "import matplotlib.image as mpimg\n"
      ],
      "execution_count": 3,
      "outputs": [
        {
          "output_type": "stream",
          "text": [
            "Using TensorFlow backend.\n"
          ],
          "name": "stderr"
        }
      ]
    },
    {
      "metadata": {
        "id": "jjQ4qVAe7h_3",
        "colab_type": "code",
        "colab": {}
      },
      "cell_type": "code",
      "source": [
        "# Authenticate to GCS.\n",
        "from google.colab import auth\n",
        "auth.authenticate_user()\n",
        "\n",
        "# Create the service client.\n",
        "from googleapiclient.discovery import build\n",
        "gcs_service = build('storage', 'v1')\n",
        "\n",
        "\n"
      ],
      "execution_count": 0,
      "outputs": []
    },
    {
      "metadata": {
        "id": "j6aK1R2Qkfdg",
        "colab_type": "code",
        "colab": {}
      },
      "cell_type": "code",
      "source": [
        "BUCKET='wpiopenimageskaggle'\n",
        "BUCKET_TUNE='mlclassifiertuning'"
      ],
      "execution_count": 0,
      "outputs": []
    },
    {
      "metadata": {
        "id": "hCRPKM6xDLTB",
        "colab_type": "text"
      },
      "cell_type": "markdown",
      "source": [
        "METHODS"
      ]
    },
    {
      "metadata": {
        "id": "hZnC-tvzrOVW",
        "colab_type": "code",
        "colab": {}
      },
      "cell_type": "code",
      "source": [
        "def create_service():\n",
        "    return googleapiclient.discovery.build('storage', 'v1')\n",
        "def download_content(filename,bucket):\n",
        "    from google.cloud import storage\n",
        "    client = storage.Client('MLRobustClassifier')\n",
        "    bucket = client.get_bucket(bucket)\n",
        "    blob = storage.Blob(filename, bucket)\n",
        "    content = blob.download_as_string()\n",
        "    return(content)\n",
        "def plot_image(filename):\n",
        "  from google.cloud import storage\n",
        "  client = storage.Client('MLRobustClassifier')\n",
        "  bucket = client.get_bucket(BUCKET)\n",
        "  blob = storage.Blob(filename, bucket)\n",
        "  content = blob.download_as_string()\n",
        "  img = Image.open(io.BytesIO(content))\n",
        "  import matplotlib.pyplot as plt\n",
        "  plt.imshow(img)\n",
        "  plt.show()\n",
        "def list_bucket_pf(bucket, pf):\n",
        "    \"\"\"Returns a list of metadata of the objects within the given bucket.\"\"\"\n",
        "    service = create_service()\n",
        "\n",
        "    # Create a request to objects.list to retrieve a list of objects.\n",
        "    fields_to_return = 'nextPageToken,items(name,size,contentType,metadata(my-key))'\n",
        "    req = service.objects().list(bucket=bucket, fields=fields_to_return, prefix=pf)  # returns everything. UrbanSound is top dir in bucket\n",
        "\n",
        "    all_objects = []\n",
        "    # If you have too many items to list in one request, list_next() will\n",
        "    # automatically handle paging with the pageToken.\n",
        "    while req:\n",
        "        resp = req.execute()\n",
        "        all_objects.extend(resp.get('items', []))\n",
        "        req = service.objects().list_next(req, resp)\n",
        "    return all_objects\n",
        "def process_image(filename, BUCKET):\n",
        "  from google.cloud import storage\n",
        "  client = storage.Client('MLRobustClassifier')\n",
        "  bucket = client.get_bucket(BUCKET)\n",
        "  blob = storage.Blob(filename, bucket)\n",
        "  content = blob.download_as_string()\n",
        "  img = Image.open(io.BytesIO(content)).convert('L')\n",
        "  img=np.array(img)\n",
        "  return(img)\n",
        "def CreateDictLabels(Points):\n",
        "    dictOfLabels = {}\n",
        "    for point in Points:\n",
        "        labelkey = point['annotations'][0]['label'] #get the label\n",
        "        if labelkey not in dictOfLabels:\n",
        "            dictOfLabels.setdefault(labelkey, [])\n",
        "        dictOfLabels[labelkey].append(point['id'])\n",
        "    return dictOfLabels\n",
        "def CreateBatchOfImages(batchSize, labelDict, bucket,imageInputPath):\n",
        "    #global imageInputPath\n",
        "    ImageLabelDict = {}\n",
        "    SuccessNum = 0\n",
        "    for index in range(batchSize):\n",
        "        for labelkey in labelDict.keys():\n",
        "            if labelkey not in ImageLabelDict:\n",
        "                ImageLabelDict.setdefault(labelkey, [])\n",
        "\n",
        "            #force add one image, keep trying until one has been added, protects against corrupted images\n",
        "            while len(labelDict[labelkey]) != 0 and  len(labelDict[labelkey]) <2000:\n",
        "                try:\n",
        "                    imageId = labelDict[labelkey].pop(0)\n",
        "                    uriInp = imageInputPath + imageId + \".jpg\"\n",
        "                    if index%50==0:\n",
        "                      print(index)\n",
        "                    '''\n",
        "                    with _open_file_read_binary(uriInp) as f:\n",
        "                        image_bytes = f.read()\n",
        "                        img = Image.open(io.BytesIO(image_bytes))\n",
        "                    '''\n",
        "\n",
        "                    #img= imageio.imread(uriInp)\n",
        "                        #img = Image.open(io.BytesIO(image_bytes))\n",
        "                    imgArr =  process_image(uriInp,bucket)\n",
        "                except: #find image exception error for better style\n",
        "                    continue\n",
        "                else:\n",
        "                    ImageLabelDict[labelkey].append([imgArr, imageId])\n",
        "                    break\n",
        "        #make sure all have nonzero number of images left\n",
        " \n",
        "        SuccessNum += 1\n",
        "    return ImageLabelDict, labelDict, SuccessNum"
      ],
      "execution_count": 0,
      "outputs": []
    },
    {
      "metadata": {
        "id": "TDGp3YSgDVWT",
        "colab_type": "text"
      },
      "cell_type": "markdown",
      "source": [
        "# IMPORT txt"
      ]
    },
    {
      "metadata": {
        "id": "olE6_ydTzmCv",
        "colab_type": "code",
        "outputId": "159228ae-f2fe-458d-ecf8-9fa6b7a9f563",
        "colab": {
          "resources": {
            "http://localhost:8080/nbextensions/google.colab/files.js": {
              "data": "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",
              "ok": true,
              "headers": [
                [
                  "content-type",
                  "application/javascript"
                ]
              ],
              "status": 200,
              "status_text": ""
            }
          },
          "base_uri": "https://localhost:8080/",
          "height": 72
        }
      },
      "cell_type": "code",
      "source": [
        "from google.colab import files\n",
        "uploaded = files.upload()\n",
        "file='PointAnnotationsSet256x256.txt'\n",
        "points = json.loads(uploaded[file].decode('utf-8')"
      ],
      "execution_count": 7,
      "outputs": [
        {
          "output_type": "display_data",
          "data": {
            "text/html": [
              "\n",
              "     <input type=\"file\" id=\"files-70729fa4-b746-4a19-b2a3-4b044def58dc\" name=\"files[]\" multiple disabled />\n",
              "     <output id=\"result-70729fa4-b746-4a19-b2a3-4b044def58dc\">\n",
              "      Upload widget is only available when the cell has been executed in the\n",
              "      current browser session. Please rerun this cell to enable.\n",
              "      </output>\n",
              "      <script src=\"/nbextensions/google.colab/files.js\"></script> "
            ],
            "text/plain": [
              "<IPython.core.display.HTML object>"
            ]
          },
          "metadata": {
            "tags": []
          }
        },
        {
          "output_type": "stream",
          "text": [
            "Saving PointAnnotationsSet256x256.txt to PointAnnotationsSet256x256 (2).txt\n"
          ],
          "name": "stdout"
        }
      ]
    },
    {
      "metadata": {
        "id": "YT6jQUZccIIV",
        "colab_type": "code",
        "colab": {
          "resources": {
            "http://localhost:8080/nbextensions/google.colab/files.js": {
              "data": "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",
              "ok": true,
              "headers": [
                [
                  "content-type",
                  "application/javascript"
                ]
              ],
              "status": 200,
              "status_text": ""
            }
          },
          "base_uri": "https://localhost:8080/",
          "height": 72
        },
        "outputId": "9da70be5-4a53-4905-fb07-37885d87eae4"
      },
      "cell_type": "code",
      "source": [
        "from google.colab import files\n",
        "uploaded = files.upload()\n",
        "tuning_images='tuning_images256x256.csv'\n",
        "tuning_labels='tuning_labels.csv'\n",
        "tuning_points='PointAnnotationsSet_Tuning.txt'\n",
        "points_tune = json.loads(uploaded[tuning_points].decode('utf-8'))"
      ],
      "execution_count": 8,
      "outputs": [
        {
          "output_type": "display_data",
          "data": {
            "text/html": [
              "\n",
              "     <input type=\"file\" id=\"files-b73e4fdd-4d75-485e-8461-e7ee6f5a41ef\" name=\"files[]\" multiple disabled />\n",
              "     <output id=\"result-b73e4fdd-4d75-485e-8461-e7ee6f5a41ef\">\n",
              "      Upload widget is only available when the cell has been executed in the\n",
              "      current browser session. Please rerun this cell to enable.\n",
              "      </output>\n",
              "      <script src=\"/nbextensions/google.colab/files.js\"></script> "
            ],
            "text/plain": [
              "<IPython.core.display.HTML object>"
            ]
          },
          "metadata": {
            "tags": []
          }
        },
        {
          "output_type": "stream",
          "text": [
            "Saving PointAnnotationsSet_Tuning.txt to PointAnnotationsSet_Tuning (2).txt\n"
          ],
          "name": "stdout"
        }
      ]
    },
    {
      "metadata": {
        "id": "QGVF_oj8DfWg",
        "colab_type": "code",
        "outputId": "35f2abe6-664b-4d5e-f616-b6c1f6076f21",
        "colab": {
          "base_uri": "https://localhost:8080/",
          "height": 156
        }
      },
      "cell_type": "code",
      "source": [
        "#IMPORT DATA\n",
        "classes=[]\n",
        "IdsFromLabels = CreateDictLabels(points)\n",
        "idsToRemoveFromEachBatch = IdsFromLabels.copy()\n",
        "for val in IdsFromLabels.items():\n",
        "  print(len(val[1]))\n",
        "  classes.append(val[0])\n",
        "  \n"
      ],
      "execution_count": 22,
      "outputs": [
        {
          "output_type": "stream",
          "text": [
            "17473\n",
            "2148\n",
            "1460\n",
            "4554\n",
            "6021\n",
            "892\n",
            "544\n",
            "633\n"
          ],
          "name": "stdout"
        }
      ]
    },
    {
      "metadata": {
        "id": "HIEGFjkBgax_",
        "colab_type": "code",
        "colab": {
          "base_uri": "https://localhost:8080/",
          "height": 190
        },
        "outputId": "018c04f3-03eb-4c5b-970f-03050f12a526"
      },
      "cell_type": "code",
      "source": [
        "imageInputPathTrain='Imagefiles256x256/'\n",
        "ImageLabelDict, idsToRemoveFromEachBatch, SuccessNum = CreateBatchOfImages(1000, idsToRemoveFromEachBatch, BUCKET,imageInputPathTrain)"
      ],
      "execution_count": 68,
      "outputs": [
        {
          "output_type": "stream",
          "text": [
            "0\n",
            "50\n",
            "100\n",
            "150\n",
            "200\n",
            "250\n",
            "300\n",
            "350\n",
            "400\n",
            "450\n"
          ],
          "name": "stdout"
        }
      ]
    },
    {
      "metadata": {
        "id": "0yUMTm73e0YT",
        "colab_type": "code",
        "colab": {
          "base_uri": "https://localhost:8080/",
          "height": 210
        },
        "outputId": "739caabf-1511-4cf8-aa07-f525644d9c10"
      },
      "cell_type": "code",
      "source": [
        "#IMPORT DATA\n",
        "IdsFromLabels_tune = CreateDictLabels(points_tune)\n",
        "idsToRemoveFromEachBatch_tune = IdsFromLabels_tune.copy()\n",
        "remove=[]\n",
        "for val in IdsFromLabels_tune.items():\n",
        "  if val[0] not in classes:\n",
        "    remove.append(val[0])\n",
        "for val in remove:  \n",
        "  del IdsFromLabels_tune[val]\n",
        "  \n",
        "for val in IdsFromLabels_tune.items():\n",
        "  print(val[0])\n",
        "  print(val[1])\n"
      ],
      "execution_count": 66,
      "outputs": [
        {
          "output_type": "stream",
          "text": [
            "/m/01g317\n",
            "['63424f32615631752b33383d', '2b6d4e7341712f704268593d', '4a3774367172792f6278773d', '2f414e7a6a44362b7364343d', '4d7973444169414d3148303d', '655a695268676875505a733d', '434b6b74585375546e506f3d', '4a3655416266617a30566b3d', '6c764f44574475705457673d', '71744c645270563876466b3d', '6f31432f6b5559705873553d', '6c4a4147754570397352633d', '3164376d766570626f32593d', '6e4b5062425971494a79303d', '36655548735946654a72383d', '346455452b49594d334f4d3d', '4a546b654f4641306461343d', '3166494744374a663636673d', '5a3357763955566b6a35383d', '65657832307441694865383d', '622f2b54686f37647739633d', '43327a595574514e62654d3d', '6544773735567645444d6b3d', '704b654756545a5a352f733d', '326346556f4c67694e62493d', '43397a79583147555a474d3d', '5075567644596b735657733d', '62477a514c4b5078744f633d', '55366854692b63746a55453d', '795166444d7a3373546a413d', '4c657844463956365366303d', '642b453738366e6a6d39383d', '4969383250465362785a593d', '374f5172776d686b6d4a773d', '64544e4a346857482f47673d', '4d4d474a4f717461374b733d', '2f665375734f32486867453d', '55735a2b7863446f3871673d', '594c79757338552b7a6e303d', '326a536579776259366c593d', '69634f3349463777384f343d', '36587268635133722b41513d', '4372386350434b3956334d3d', '52695270487654346a66773d', '3952736f58664446486d553d', '565a69785131776244356f3d', '724b3861663550615739553d', '544f3178594968383141453d', '61374e4475723069557a453d', '475a623866744f7a4368633d', '6537543638706d55426c303d', '773266434e4c55463657303d', '646230484e4758466832633d', '6c5564756c5736397555493d', '61394c6f2b4857433731773d', '5a4e354835722f2f4876493d', '302b6b66694e7871742f673d', '75616a6f62754a377063633d', '466d585934587047584d343d', '4258336548752f6a535a493d', '624777314345682f664e553d', '737447444669374a7463383d', '423777596a5645793834343d', '44744a343973346f6347553d', '36654b4f68744a43732b343d', '4d6a6849757859766b6d453d', '644e443668634b347374343d', '6d79674c6b784d666b30773d', '4a766c6f703072546b4d453d', '51373655434f71335479673d', '47527634454b55384f4e6f3d', '31576863636c754c4270493d', '4b334c466d473475336a773d', '716b394e574c50376873413d', '3137686e494557466c51383d', '55556271635958616931383d', '56397a4e627731546d54593d', '555476395a3767507064383d', '61782f674b726a6b64354d3d', '6d6e50754835396c7a58303d', '656a53624e2f6b2b6f62343d', '6f34435a483463556c4e383d', '7338417558455a417968383d', '69514a42353130674676773d', '4e4651375942442b304e673d', '5a4b73552f61534f6f79303d', '76653876703337722b476f3d', '3651434f6f6e4d346158733d', '65785a4c556443474735593d', '48504b4d617471787772383d', '4a6c326d7873654d51306f3d', '736e4f3852557053626e343d', '6a77584c50594c373176493d', '717a6e54396358537a38343d', '6b636c4845346a69334f383d', '49552b494b424665714e633d', '515041614236736c55664d3d', '4a61364a696e5a426350593d', '64504f57656636432f4b6b3d', '2b333057383432514454593d', '44356238397053644a494d3d', '464c7a7874395563534d6b3d', '6c79506b714e53496b50673d', '6a39326b6a4a6f546d62593d', '594a506c6a6a59337356383d', '52615568596478675254413d', '50516e75345056434a36733d', '424a5677325147585844773d', '333863456a4b796b6f61493d', '31552f30666c4f6d4341733d', '6959742b51396d482b4b513d', '3153786b715676455431553d', '6a5a452b2f5473706651493d', '736f303344522b493158493d', '526e317865554369704b633d', '57504f69534764416d6b733d', '414c45587a697868704d493d', '6644626a4f5863355932553d', '2b52586f4a6a52707764493d', '4a694b3247392b436c36633d', '6632584a6848336b577a513d', '72734436664562457253593d', '527647475836743439646b3d', '2b38364476612f6c4558383d', '6542655148774d647677593d', '727a546f62432b443042513d', '592f4c76674667416245413d', '374d396242616f354e4e593d', '4e4467384f6634646d32493d', '4267472f4f516a597158303d', '7642336c354b434a645a453d', '72455170564633536453343d', '694d58716f6b542b6650413d', '4a57574746396f617773493d', '4f7a547a49743861696e673d', '6f684b59366448697765413d']\n",
            "/m/07j7r\n",
            "['5179616468783836316e773d', '3855715042453957654d383d', '594961362f32426b474b513d', '306c77794a764450374e453d', '795831386c5a6b644e6d6b3d', '665a6842527565496c31383d', '437359454744484c5332383d', '79334c2f2f4137736272553d', '71486376664e67524b39513d', '6555683350613351546e453d', '706c46354d464b3331626f3d', '517a507161797049666a343d', '35457a303456324d3630553d', '57715330495432736175673d', '4d614d5573774d4b4f486f3d', '7778372f707742577559553d', '45376b57654631584979383d', '4d534e42583235566d65633d', '49684b53414d344a4764493d', '31545941534454715268673d', '516930487155632f43514d3d', '49744952544854473752343d', '634a364d346b78556943413d', '4d366c3432456e4b7638383d', '43574571726338444847343d', '72574437765a2b537554493d', '50304f5442584a784f74493d', '5059384d706c7a6a7a6e513d', '6863397a6c3559686231673d', '594838775a5765396163673d', '4c79594f6333323938706f3d', '68316773635a517371696b3d', '473573495a58786e70686f3d', '654c4430394261687a34673d', '78306a5630474d41344d553d', '495475635a534b326b4c673d', '655a386c6169745274734d3d', '35307a7834483238792f303d', '6e546967755755534a4d673d', '33766a705450466e3164493d', '724f414a376f4d2b726c493d', '6f385a496b50364f3752303d', '4978553831476a37777a303d', '70516b5871472f69506c4d3d', '516447664c666f785062343d', '52766c4954615a594a75553d', '7a704375527150436248733d', '7341655374435864766d453d', '626c794172642b396142673d', '72574757372b4749684d6f3d', '39636b30734f596e564b453d', '435a374558337364616c513d', '77787332434378756457633d', '675235314d3142595553733d', '6452444e592f51767041383d', '3237556b2f466e4a4e4c553d']\n",
            "/m/0jyfg\n",
            "['5030414861706a786464493d', '2f4b6d3663484d68734d493d', '6141613931656a556c73453d', '4146464c64624d526d53673d', '43704f54666b71393955343d', '52667549684357624552453d', '48427666414c615a4149773d', '6e74794a466372314752733d', '74612b443253474272416f3d', '42485330317936577454453d', '47385050515073316f72553d', '306d44774b2f7238464d553d', '496e4c37623078734f63383d', '664c76622f664e327141733d', '724845376c6f4556504c343d', '65544438577637596173303d', '57705179376a2f677752303d', '546c63516d4b646a7558673d', '426a6e32304c354153726f3d', '4b77732f666a4e4d2b76773d', '36562f71477061503974493d', '4a7a775a6e6b6b746d46673d', '3977747767314b5a486f513d', '7a696a5a36356261572b6f3d', '55576f7a764d76344c32593d', '4d4f324f354b6f535a55303d', '384b6b474458386d4559383d', '37704363787977544142593d', '63706743737543787531453d', '4e2b53466d5058697659343d', '666531593370674c474c513d', '58624a4c304f337a6c49493d', '763064374d31306e6b52673d', '75754451715369734764633d', '547274544e314c496570493d']\n",
            "/m/0cgh4\n",
            "['352b36554e412f547050733d', '4e6b6c44444c524d466f383d']\n",
            "/m/03vt0\n",
            "['774448764e6f51556a74383d']\n"
          ],
          "name": "stdout"
        }
      ]
    },
    {
      "metadata": {
        "id": "IzostdZZjjLs",
        "colab_type": "code",
        "colab": {
          "base_uri": "https://localhost:8080/",
          "height": 138
        },
        "outputId": "2357153b-6480-49ea-f7b5-5bcd9835d312"
      },
      "cell_type": "code",
      "source": [
        " test='Imagefiles256x256/63424f32615631752b33383d.jpg'\n",
        " result=process_image(test, BUCKET_TUNE)\n",
        "print(result)"
      ],
      "execution_count": 62,
      "outputs": [
        {
          "output_type": "stream",
          "text": [
            "[[121 121 121 ... 192 192 192]\n",
            " [121 121 121 ... 191 192 192]\n",
            " [121 121 121 ... 191 191 192]\n",
            " ...\n",
            " [149 127 116 ... 184 110  72]\n",
            " [147 140 124 ... 178 130  79]\n",
            " [126 151 147 ... 158 134  84]]\n"
          ],
          "name": "stdout"
        }
      ]
    },
    {
      "metadata": {
        "id": "c9Kkuwuyglz3",
        "colab_type": "code",
        "colab": {
          "base_uri": "https://localhost:8080/",
          "height": 138
        },
        "outputId": "5cb4d163-7fab-4603-867a-2004f72a9d21"
      },
      "cell_type": "code",
      "source": [
        "imageInputPathTrain='Imagefiles256x256/'\n",
        "idsToRemoveFromEachBatch_tune = IdsFromLabels_tune.copy()\n",
        "\n",
        "ImageLabelDict_tune, idsToRemoveFromEachBatch_tune, SuccessNum = CreateBatchOfImages(100, idsToRemoveFromEachBatch_tune, BUCKET_TUNE,imageInputPathTrain)"
      ],
      "execution_count": 69,
      "outputs": [
        {
          "output_type": "stream",
          "text": [
            "0\n",
            "0\n",
            "0\n",
            "0\n",
            "0\n",
            "50\n",
            "50\n"
          ],
          "name": "stdout"
        }
      ]
    },
    {
      "metadata": {
        "id": "Kpds_qUHv-c9",
        "colab_type": "code",
        "colab": {
          "base_uri": "https://localhost:8080/",
          "height": 54
        },
        "outputId": "25d575a9-8286-4f07-c42d-27a7126a60e6"
      },
      "cell_type": "code",
      "source": [
        "print(idsToRemoveFromEachBatch_tune)\n",
        "for val in keys:\n",
        "  imgs=ImageLabelDict.get(val)\n",
        "  labels.append(val)\n",
        "  for img in imgs:"
      ],
      "execution_count": 70,
      "outputs": [
        {
          "output_type": "stream",
          "text": [
            "{'/m/01g317': ['464c7a7874395563534d6b3d', '6c79506b714e53496b50673d', '6a39326b6a4a6f546d62593d', '594a506c6a6a59337356383d', '52615568596478675254413d', '50516e75345056434a36733d', '424a5677325147585844773d', '333863456a4b796b6f61493d', '31552f30666c4f6d4341733d', '6959742b51396d482b4b513d', '3153786b715676455431553d', '6a5a452b2f5473706651493d', '736f303344522b493158493d', '526e317865554369704b633d', '57504f69534764416d6b733d', '414c45587a697868704d493d', '6644626a4f5863355932553d', '2b52586f4a6a52707764493d', '4a694b3247392b436c36633d', '6632584a6848336b577a513d', '72734436664562457253593d', '527647475836743439646b3d', '2b38364476612f6c4558383d', '6542655148774d647677593d', '727a546f62432b443042513d', '592f4c76674667416245413d', '374d396242616f354e4e593d', '4e4467384f6634646d32493d', '4267472f4f516a597158303d', '7642336c354b434a645a453d', '72455170564633536453343d', '694d58716f6b542b6650413d', '4a57574746396f617773493d', '4f7a547a49743861696e673d', '6f684b59366448697765413d'], '/m/07j7r': [], '/m/0jyfg': [], '/m/0cgh4': [], '/m/03vt0': []}\n"
          ],
          "name": "stdout"
        }
      ]
    },
    {
      "metadata": {
        "id": "xb2cQroL0QVr",
        "colab_type": "code",
        "colab": {}
      },
      "cell_type": "code",
      "source": [
        "\n",
        "'''\n",
        "##USE THIS WHEN SPLITTING THE TRAINING FOR TEST/TRAIN\n",
        "keys=list(ImageLabelDict.keys())\n",
        "data=[]\n",
        "labels=[]\n",
        "label=0\n",
        "for val in keys:\n",
        "  imgs=ImageLabelDict.get(val)\n",
        "  for img in imgs:\n",
        "        vec=img[0]\n",
        "        data.append(vec)\n",
        "        labels.append(label)\n",
        "  label+=1\n",
        "        \n",
        "    ########\n",
        "    ##\n",
        "    ##Split data intro training and testing wtih 0.75 train vs 0.25 test\n",
        "    ########\n",
        "        \n",
        "total=len(data)\n",
        "train_size=round(total*0.75)\n",
        "test_size=total-train_size\n",
        "import random\n",
        "random.seed(4)\n",
        "\n",
        "\n",
        "\n",
        "train_ind=np.random.choice(len(labels),train_size,replace=False)\n",
        "test_ind=np.setdiff1d(list(range(0, total)),train_ind)\n",
        "\n",
        "\n",
        "labels_test=np.array(labels)\n",
        "data_test=np.array(data)\n",
        "    \n",
        "X_train=data_test[np.where(train_ind)]\n",
        "X_test=data_test[np.where(test_ind)]\n",
        "Y_train=labels_test[np.where(train_ind)]\n",
        "Y_test=labels_test[np.where(test_ind)]\n",
        "\n",
        "img_len=256\n",
        "img_width=256\n",
        "# We reshape the input data to have a depth of 1 (grey scale)\n",
        "if keras.backend.image_data_format() == 'channels_first':\n",
        "        X_train = X_train.reshape(X_train.shape[0], 1, img_len, img_width)\n",
        "        X_test = X_test.reshape(X_test.shape[0], 1, img_len, img_width)\n",
        "        input_shape = (1, img_len, img_width)\n",
        "else:\n",
        "        X_train = X_train.reshape(X_train.shape[0], img_len, img_width, 1)\n",
        "        X_test = X_test.reshape(X_test.shape[0], img_len, img_width, 1)\n",
        "        input_shape = (img_len, img_width, 1)\n",
        "\n",
        "X_train = X_train.astype('float32')\n",
        "X_test = X_test.astype('float32')\n",
        "\n",
        "# Then we normalize it so that the values are between 0 and 1\n",
        "X_train /= 255\n",
        "X_test /= 255\n",
        "'''"
      ],
      "execution_count": 0,
      "outputs": []
    },
    {
      "metadata": {
        "id": "GbpxbNiQyp7I",
        "colab_type": "code",
        "colab": {}
      },
      "cell_type": "code",
      "source": [
        "##USE THIS WHEN SPLITTING THE TRAINING FOR TEST/TRAIN\n",
        "X_train=[]\n",
        "X_test=[]\n",
        "Y_train=[]\n",
        "Y_test=[]\n",
        "\n",
        "\n",
        "\n",
        "###CONVERT FORMAT OF TRAINING DATA\n",
        "keys=list(ImageLabelDict.keys())\n",
        "data=[]\n",
        "labels=[]\n",
        "label=0\n",
        "for val in keys:\n",
        "  imgs=ImageLabelDict.get(val)\n",
        "  labels.append(val)\n",
        "  for img in imgs:\n",
        "        vec=img[0]\n",
        "        X_train.append(vec)\n",
        "        Y_train.append(label)\n",
        "  label+=1"
      ],
      "execution_count": 0,
      "outputs": []
    },
    {
      "metadata": {
        "id": "MQiEwODyzrUs",
        "colab_type": "code",
        "colab": {
          "base_uri": "https://localhost:8080/",
          "height": 34
        },
        "outputId": "4fecce84-29de-40a1-96a1-470bc25d80e1"
      },
      "cell_type": "code",
      "source": [
        "  imgs=ImageLabelDict_tune.get('/m/019jd')\n",
        "  print(imgs)"
      ],
      "execution_count": 80,
      "outputs": [
        {
          "output_type": "stream",
          "text": [
            "None\n"
          ],
          "name": "stdout"
        }
      ]
    },
    {
      "metadata": {
        "id": "iURMacUgzu5q",
        "colab_type": "code",
        "colab": {
          "base_uri": "https://localhost:8080/",
          "height": 34
        },
        "outputId": "6e2690c9-5321-48ef-8d13-17015017edde"
      },
      "cell_type": "code",
      "source": [
        "print(keys)"
      ],
      "execution_count": 78,
      "outputs": [
        {
          "output_type": "stream",
          "text": [
            "['/m/01g317', '/m/0cgh4', '/m/019jd', '/m/0bt9lr', '/m/07j7r', '/m/04bcr3', '/m/0jyfg', '/m/03vt0']\n"
          ],
          "name": "stdout"
        }
      ]
    },
    {
      "metadata": {
        "id": "RQ2-8P-oy6E_",
        "colab_type": "code",
        "colab": {
          "base_uri": "https://localhost:8080/",
          "height": 234
        },
        "outputId": "7f7bcb85-84eb-4817-fda9-59d01e834966"
      },
      "cell_type": "code",
      "source": [
        "###CONVERT FORMAT OF TESTING DATA    \n",
        "keys_raw=list(ImageLabelDict_tune.keys())\n",
        "keys_clean=[]\n",
        "for val in keys:\n",
        "  imgs=ImageLabelDict_tune.get(val)\n",
        "  if len(imgs)>0:\n",
        "    keys_clean.append(val)\n",
        "\n"
      ],
      "execution_count": 85,
      "outputs": [
        {
          "output_type": "error",
          "ename": "TypeError",
          "evalue": "ignored",
          "traceback": [
            "\u001b[0;31m---------------------------------------------------------------------------\u001b[0m",
            "\u001b[0;31mTypeError\u001b[0m                                 Traceback (most recent call last)",
            "\u001b[0;32m<ipython-input-85-1e82519184bd>\u001b[0m in \u001b[0;36m<module>\u001b[0;34m()\u001b[0m\n\u001b[1;32m      3\u001b[0m \u001b[0;32mfor\u001b[0m \u001b[0mval\u001b[0m \u001b[0;32min\u001b[0m \u001b[0mkeys\u001b[0m\u001b[0;34m:\u001b[0m\u001b[0;34m\u001b[0m\u001b[0;34m\u001b[0m\u001b[0m\n\u001b[1;32m      4\u001b[0m   \u001b[0mimgs\u001b[0m\u001b[0;34m=\u001b[0m\u001b[0mImageLabelDict_tune\u001b[0m\u001b[0;34m.\u001b[0m\u001b[0mget\u001b[0m\u001b[0;34m(\u001b[0m\u001b[0mval\u001b[0m\u001b[0;34m)\u001b[0m\u001b[0;34m\u001b[0m\u001b[0;34m\u001b[0m\u001b[0m\n\u001b[0;32m----> 5\u001b[0;31m   \u001b[0;32mif\u001b[0m \u001b[0mlen\u001b[0m\u001b[0;34m(\u001b[0m\u001b[0mimgs\u001b[0m\u001b[0;34m)\u001b[0m\u001b[0;34m>\u001b[0m\u001b[0;36m0\u001b[0m\u001b[0;34m:\u001b[0m\u001b[0;34m\u001b[0m\u001b[0;34m\u001b[0m\u001b[0m\n\u001b[0m\u001b[1;32m      6\u001b[0m     \u001b[0mkeys_clean\u001b[0m\u001b[0;34m.\u001b[0m\u001b[0mappend\u001b[0m\u001b[0;34m(\u001b[0m\u001b[0mval\u001b[0m\u001b[0;34m)\u001b[0m\u001b[0;34m\u001b[0m\u001b[0;34m\u001b[0m\u001b[0m\n\u001b[1;32m      7\u001b[0m \u001b[0;34m\u001b[0m\u001b[0m\n",
            "\u001b[0;31mTypeError\u001b[0m: object of type 'NoneType' has no len()"
          ]
        }
      ]
    },
    {
      "metadata": {
        "id": "TkHriuBzto-H",
        "colab_type": "code",
        "colab": {
          "base_uri": "https://localhost:8080/",
          "height": 34
        },
        "outputId": "3cbf2b24-d20a-478a-9c17-ee2b9c924d79"
      },
      "cell_type": "code",
      "source": [
        "for val in keys:\n",
        "  imgs=ImageLabelDict_tune.get(val)\n",
        "  for img in imgs:\n",
        "        if imgs!= None:\n",
        "          vec=img[0]\n",
        "          X_test.append(vec)\n",
        "          label=labels.index(val)\n",
        "          print(label)\n",
        "          Y_test.append(label)"
      ],
      "execution_count": 49,
      "outputs": [
        {
          "output_type": "stream",
          "text": [
            "[]\n"
          ],
          "name": "stdout"
        }
      ]
    },
    {
      "metadata": {
        "id": "mKBXkChO7JGa",
        "colab_type": "code",
        "outputId": "8f355c08-d6b6-4798-cdd7-074cb977259d",
        "colab": {
          "base_uri": "https://localhost:8080/",
          "height": 1248
        }
      },
      "cell_type": "code",
      "source": [
        "   # Defining the model\n",
        "    model = Sequential()\n",
        "    model.add(Conv2D(32, 3, 3, activation='relu', input_shape=(img_len, img_width, 1)))\n",
        "    # 32 is the number of convolutional filters to use. Frist 3 is the number of rows in each convolution kernel and second 3 is the number of columns in each kernel.\n",
        "\n",
        "\n",
        "    model.add(Conv2D(32, 3, 3, activation='relu'))\n",
        "    model.add(MaxPooling2D(pool_size=(2,2)))\n",
        "    # MaxPooling2D is a way to reduce the number of parameters in our model by sliding a 2x2 pooling filter across the previous layer and taking the max of the 4 values in the 2x2 filter.\n",
        "\n",
        "    model.add(Dropout(0.25))\n",
        "    # Dropout regularizes the model and prevents overfitting\n",
        "\n",
        "    model.add(Flatten())\n",
        "    model.add(Dense(128, activation='relu'))\n",
        "    model.add(Dropout(0.5))\n",
        "    model.add(Dense(10, activation='softmax'))\n",
        "    # Final layer has the output size of 10 to correspond to the number of classes\n",
        "\n",
        "    model.summary()\n",
        "    model.compile(loss='sparse_categorical_crossentropy', optimizer='adam', metrics=['accuracy'])\n",
        "    # Fit model to training data\n",
        "    model.fit(X_train, Y_train, batch_size=32, epochs=10, verbose=1)\n",
        "\n",
        "    # Evaluate the model on test data\n",
        "    score = model.evaluate(X_test, Y_test, verbose=0)\n",
        "    print(\"test loss:\", score[0])\n",
        "    print(\"test accuracy:\",  score[1])\n",
        "    # score[0] gives you the test loss and score[1] gives you the accuracy\n",
        "\n",
        "    tbCallBack = TensorBoard(log_dir='./log', histogram_freq=1, write_graph=True, write_grads=True, batch_size=32, write_images=True)\n",
        "\n",
        "    # We can use a call back to look into the internal state of the model during training\n",
        "    model.fit(X_train, Y_train, batch_size=32, epochs=10, verbose=1, validation_data=(X_test, Y_test), callbacks=[tbCallBack])\n",
        "\n",
        "\n",
        "\n"
      ],
      "execution_count": 0,
      "outputs": [
        {
          "output_type": "stream",
          "text": [
            "/usr/local/lib/python3.6/dist-packages/ipykernel_launcher.py:2: UserWarning: Update your `Conv2D` call to the Keras 2 API: `Conv2D(32, (3, 3), activation=\"relu\", input_shape=(256, 256,...)`\n",
            "  \n",
            "/usr/local/lib/python3.6/dist-packages/ipykernel_launcher.py:6: UserWarning: Update your `Conv2D` call to the Keras 2 API: `Conv2D(32, (3, 3), activation=\"relu\")`\n",
            "  \n"
          ],
          "name": "stderr"
        },
        {
          "output_type": "stream",
          "text": [
            "_________________________________________________________________\n",
            "Layer (type)                 Output Shape              Param #   \n",
            "=================================================================\n",
            "conv2d_1 (Conv2D)            (None, 254, 254, 32)      320       \n",
            "_________________________________________________________________\n",
            "conv2d_2 (Conv2D)            (None, 252, 252, 32)      9248      \n",
            "_________________________________________________________________\n",
            "max_pooling2d_1 (MaxPooling2 (None, 126, 126, 32)      0         \n",
            "_________________________________________________________________\n",
            "dropout_1 (Dropout)          (None, 126, 126, 32)      0         \n",
            "_________________________________________________________________\n",
            "flatten_1 (Flatten)          (None, 508032)            0         \n",
            "_________________________________________________________________\n",
            "dense_1 (Dense)              (None, 128)               65028224  \n",
            "_________________________________________________________________\n",
            "dropout_2 (Dropout)          (None, 128)               0         \n",
            "_________________________________________________________________\n",
            "dense_2 (Dense)              (None, 10)                1290      \n",
            "=================================================================\n",
            "Total params: 65,039,082\n",
            "Trainable params: 65,039,082\n",
            "Non-trainable params: 0\n",
            "_________________________________________________________________\n",
            "Epoch 1/10\n",
            "2301/2301 [==============================] - 24s 10ms/step - loss: 1.4562 - acc: 0.5041\n",
            "Epoch 2/10\n",
            "2301/2301 [==============================] - 17s 7ms/step - loss: 0.8291 - acc: 0.6367\n",
            "Epoch 3/10\n",
            "2301/2301 [==============================] - 17s 7ms/step - loss: 0.5469 - acc: 0.7888\n",
            "Epoch 4/10\n",
            "2301/2301 [==============================] - 17s 7ms/step - loss: 0.3313 - acc: 0.8718\n",
            "Epoch 5/10\n",
            "2301/2301 [==============================] - 17s 7ms/step - loss: 0.2127 - acc: 0.9239\n",
            "Epoch 6/10\n",
            "2301/2301 [==============================] - 17s 7ms/step - loss: 0.1574 - acc: 0.9422\n",
            "Epoch 7/10\n",
            "2301/2301 [==============================] - 17s 7ms/step - loss: 0.1170 - acc: 0.9618\n",
            "Epoch 8/10\n",
            "2301/2301 [==============================] - 17s 7ms/step - loss: 0.1214 - acc: 0.9583\n",
            "Epoch 9/10\n",
            "2301/2301 [==============================] - 17s 7ms/step - loss: 0.0895 - acc: 0.9609\n",
            "Epoch 10/10\n",
            "2301/2301 [==============================] - 17s 7ms/step - loss: 0.0848 - acc: 0.9665\n",
            "test loss: 0.03327815977837089\n",
            "test accuracy: 0.9661016937495832\n",
            "Train on 2301 samples, validate on 767 samples\n",
            "Epoch 1/10\n",
            "2301/2301 [==============================] - 18s 8ms/step - loss: 0.0723 - acc: 0.9648 - val_loss: 0.0341 - val_acc: 0.9661\n",
            "Epoch 2/10\n",
            "2301/2301 [==============================] - 18s 8ms/step - loss: 0.0683 - acc: 0.9652 - val_loss: 0.0337 - val_acc: 0.9661\n",
            "Epoch 3/10\n",
            "2301/2301 [==============================] - 18s 8ms/step - loss: 0.0602 - acc: 0.9739 - val_loss: 0.0309 - val_acc: 0.9661\n",
            "Epoch 4/10\n",
            "2301/2301 [==============================] - 19s 8ms/step - loss: 0.0619 - acc: 0.9683 - val_loss: 0.0312 - val_acc: 0.9713\n",
            "Epoch 5/10\n",
            "2301/2301 [==============================] - 18s 8ms/step - loss: 0.0697 - acc: 0.9709 - val_loss: 0.0319 - val_acc: 0.9713\n",
            "Epoch 6/10\n",
            "2301/2301 [==============================] - 18s 8ms/step - loss: 0.0777 - acc: 0.9674 - val_loss: 0.0359 - val_acc: 0.9713\n",
            "Epoch 7/10\n",
            "2301/2301 [==============================] - 18s 8ms/step - loss: 0.0700 - acc: 0.9722 - val_loss: 0.0348 - val_acc: 0.9713\n",
            "Epoch 8/10\n",
            "2301/2301 [==============================] - 18s 8ms/step - loss: 0.0672 - acc: 0.9674 - val_loss: 0.0353 - val_acc: 0.9713\n",
            "Epoch 9/10\n",
            "2301/2301 [==============================] - 18s 8ms/step - loss: 0.0822 - acc: 0.9678 - val_loss: 0.0349 - val_acc: 0.9713\n",
            "Epoch 10/10\n",
            "2301/2301 [==============================] - 18s 8ms/step - loss: 0.0626 - acc: 0.9687 - val_loss: 0.0332 - val_acc: 0.9713\n"
          ],
          "name": "stdout"
        },
        {
          "output_type": "execute_result",
          "data": {
            "text/plain": [
              "<keras.callbacks.History at 0x7ff85ba9a0f0>"
            ]
          },
          "metadata": {
            "tags": []
          },
          "execution_count": 26
        }
      ]
    },
    {
      "metadata": {
        "id": "axacWYpUw-UY",
        "colab_type": "code",
        "outputId": "f9344e56-d851-4bda-ccdb-de4b31d7fbb3",
        "colab": {
          "base_uri": "https://localhost:8080/",
          "height": 69
        }
      },
      "cell_type": "code",
      "source": [
        "print(len(Y_test))\n",
        "print(np.unique(Y_test))\n",
        "print(np.unique(Y_train))\n",
        "x_"
      ],
      "execution_count": 0,
      "outputs": [
        {
          "output_type": "stream",
          "text": [
            "767\n",
            "[2]\n",
            "[2 5 6]\n"
          ],
          "name": "stdout"
        }
      ]
    },
    {
      "metadata": {
        "id": "dak8v-o3x2-B",
        "colab_type": "code",
        "outputId": "50bca0ed-0e57-451b-f61e-e3832040efb5",
        "colab": {
          "base_uri": "https://localhost:8080/",
          "height": 86
        }
      },
      "cell_type": "code",
      "source": [
        "Y_train=pd.DataFrame(Y_train)\n",
        "pd.value_counts(Y_train[0])"
      ],
      "execution_count": 0,
      "outputs": [
        {
          "output_type": "execute_result",
          "data": {
            "text/plain": [
              "2    1000\n",
              "5     892\n",
              "6     409\n",
              "Name: 0, dtype: int64"
            ]
          },
          "metadata": {
            "tags": []
          },
          "execution_count": 38
        }
      ]
    },
    {
      "metadata": {
        "id": "BZ0MMdhNCOrd",
        "colab_type": "text"
      },
      "cell_type": "markdown",
      "source": [
        "***BELOW THIS POINT IS CODE TRIED THAT DOESN'T WORK KEPT FOR REFERENCE***"
      ]
    }
  ]
}